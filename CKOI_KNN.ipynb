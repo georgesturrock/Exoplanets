{
 "cells": [
  {
   "cell_type": "markdown",
   "metadata": {},
   "source": [
    "# KNN Exoplanet Classification using Cumulative Object of Interest Data"
   ]
  },
  {
   "cell_type": "code",
   "execution_count": 4,
   "metadata": {},
   "outputs": [],
   "source": [
    "import pandas as pd\n",
    "import numpy as np\n",
    "import seaborn as sns\n",
    "import warnings\n",
    "import matplotlib.pyplot as plt\n",
    "warnings.filterwarnings('ignore')\n",
    "\n",
    "pd.set_option('display.max_row', 100)\n",
    "pd.set_option('display.max_columns', 75)"
   ]
  },
  {
   "cell_type": "markdown",
   "metadata": {},
   "source": [
    "## KNN Classifier\n"
   ]
  },
  {
   "cell_type": "code",
   "execution_count": 5,
   "metadata": {},
   "outputs": [],
   "source": [
    "from sklearn.neighbors import KNeighborsClassifier\n",
    "from sklearn import metrics as mt\n",
    "from sklearn.model_selection import StratifiedKFold, StratifiedShuffleSplit, cross_validate"
   ]
  },
  {
   "cell_type": "markdown",
   "metadata": {},
   "source": [
    "Read pickle files from Data Prep."
   ]
  },
  {
   "cell_type": "code",
   "execution_count": 6,
   "metadata": {},
   "outputs": [],
   "source": [
    "#Read Pickle Files\n",
    "#try:\n",
    "#    del df_rfecvTrainFillX, df_rfecvTestFillX, df_rfecvTrainMiceX, df_rfecvTestMiceX, topExoTrainFillX, topExoTestFillX, topExoTrainMiceX, topExoTestMiceX\n",
    "#except Exception as e:\n",
    "#    print(e)\n",
    "    \n",
    "df_scaledTrainFillX = pd.read_pickle(\"./pkl/df_scaledTrainFillX.pkl\")\n",
    "df_scaledTestFillX = pd.read_pickle(\"./pkl/df_scaledTestFillX.pkl\")\n",
    "df_scaledTrainMiceX = pd.read_pickle(\"./pkl/df_scaledTrainMiceX.pkl\")\n",
    "df_scaledTestMiceX = pd.read_pickle(\"./pkl/df_scaledTestMiceX.pkl\")\n",
    "\n",
    "exoTestFillX = pd.read_pickle(\"./pkl/exoTestFillX.pkl\")\n",
    "exoTrainFillX = pd.read_pickle(\"./pkl/exoTrainFillX.pkl\")\n",
    "exoTestMiceX = pd.read_pickle(\"./pkl/exoTestMiceX.pkl\")\n",
    "exoTrainMiceX = pd.read_pickle(\"./pkl/exoTrainMiceX.pkl\")\n",
    "exoTrainX = pd.read_pickle('./pkl/exoTrainX.pkl')\n",
    "exoTestX = pd.read_pickle('./pkl/exoTestX.pkl')\n",
    "\n",
    "topExoTrainFillX = pd.read_pickle('./pkl/topExoTrainFillX.pkl')\n",
    "topExoTestFillX = pd.read_pickle('./pkl/topExoTestFillX.pkl')\n",
    "\n",
    "#Response Variables\n",
    "exoTrainFillY = pd.read_pickle(\"./pkl/exoTrainFillY.pkl\")\n",
    "exoTestFillY = pd.read_pickle(\"./pkl/exoTestFillY.pkl\")\n",
    "exoTrainMiceY = pd.read_pickle(\"./pkl/exoTrainMiceY.pkl\")\n",
    "exoTestMiceY = pd.read_pickle(\"./pkl/exoTestMiceY.pkl\")\n",
    "exoTestY = pd.read_pickle(\"./pkl/exoTestY.pkl\")\n",
    "exoTrainY = pd.read_pickle(\"./pkl/exoTrainY.pkl\")"
   ]
  },
  {
   "cell_type": "code",
   "execution_count": 32,
   "metadata": {},
   "outputs": [
    {
     "data": {
      "text/plain": [
       "Index(['koi_fpflag_ss', 'koi_fpflag_co', 'koi_fpflag_ec', 'koi_impact',\n",
       "       'koi_duration', 'koi_depth', 'koi_ror', 'koi_srho', 'koi_prad',\n",
       "       'koi_sma', 'koi_incl', 'koi_teq', 'koi_dor'],\n",
       "      dtype='object')"
      ]
     },
     "execution_count": 32,
     "metadata": {},
     "output_type": "execute_result"
    }
   ],
   "source": [
    "topExoTrainFillX.columns"
   ]
  },
  {
   "cell_type": "code",
   "execution_count": 39,
   "metadata": {},
   "outputs": [],
   "source": [
    "topScaledTrainFillX = df_scaledTrainFillX[topExoTrainFillX.columns.values]\n",
    "topScaledTestFillX = df_scaledTestFillX[topExoTrainFillX.columns.values]"
   ]
  },
  {
   "cell_type": "markdown",
   "metadata": {},
   "source": [
    "#### GridSearchCV"
   ]
  },
  {
   "cell_type": "code",
   "execution_count": 7,
   "metadata": {},
   "outputs": [],
   "source": [
    "# create cross validation iterator\n",
    "cv = StratifiedKFold(n_splits=10)\n",
    "cvsss = StratifiedShuffleSplit(n_splits = 10, test_size=0.20, random_state=0)\n",
    "\n",
    "knnEstimator = KNeighborsClassifier()\n",
    "\n",
    "parameters = { 'n_neighbors':[11, 21, 51, 83]\n",
    "              ,'weights': ['uniform','distance']\n",
    "              ,'leaf_size': [10,30]\n",
    "              ,'metric': ['minkowski','euclidean']\n",
    "             }\n",
    "#Create a grid search object using the  \n",
    "from sklearn.model_selection import GridSearchCV\n",
    "knnGridSearch = GridSearchCV(estimator=knnEstimator\n",
    "                   , n_jobs=-1 # jobs to run in parallel\n",
    "                   , verbose=1 # low verbosity\n",
    "                   , param_grid=parameters\n",
    "                   , cv=cv \n",
    "                   , scoring='recall')\n"
   ]
  },
  {
   "cell_type": "code",
   "execution_count": 9,
   "metadata": {},
   "outputs": [
    {
     "name": "stdout",
     "output_type": "stream",
     "text": [
      "Fitting 10 folds for each of 32 candidates, totalling 320 fits\n"
     ]
    },
    {
     "name": "stderr",
     "output_type": "stream",
     "text": [
      "[Parallel(n_jobs=-1)]: Done  76 tasks      | elapsed:    7.7s\n",
      "[Parallel(n_jobs=-1)]: Done 230 tasks      | elapsed:   22.3s\n",
      "[Parallel(n_jobs=-1)]: Done 320 out of 320 | elapsed:   30.5s finished\n"
     ]
    },
    {
     "data": {
      "text/plain": [
       "GridSearchCV(cv=StratifiedKFold(n_splits=10, random_state=None, shuffle=False),\n",
       "       error_score='raise',\n",
       "       estimator=KNeighborsClassifier(algorithm='auto', leaf_size=30, metric='minkowski',\n",
       "           metric_params=None, n_jobs=1, n_neighbors=5, p=2,\n",
       "           weights='uniform'),\n",
       "       fit_params=None, iid=True, n_jobs=-1,\n",
       "       param_grid={'weights': ['uniform', 'distance'], 'leaf_size': [10, 30], 'n_neighbors': [11, 21, 51, 83], 'metric': ['minkowski', 'euclidean']},\n",
       "       pre_dispatch='2*n_jobs', refit=True, return_train_score='warn',\n",
       "       scoring='recall', verbose=1)"
      ]
     },
     "execution_count": 9,
     "metadata": {},
     "output_type": "execute_result"
    }
   ],
   "source": [
    "#Perform hyperparameter search to find the best combination of parameters for our data\n",
    "#knnGridSearch.fit(df_scaledTrainFillX, exoTrainFillX)\n",
    "knnGridSearch.fit(topExoTrainFillX, exoTrainFillY)"
   ]
  },
  {
   "cell_type": "code",
   "execution_count": 10,
   "metadata": {},
   "outputs": [
    {
     "data": {
      "text/plain": [
       "KNeighborsClassifier(algorithm='auto', leaf_size=10, metric='minkowski',\n",
       "           metric_params=None, n_jobs=1, n_neighbors=11, p=2,\n",
       "           weights='distance')"
      ]
     },
     "execution_count": 10,
     "metadata": {},
     "output_type": "execute_result"
    }
   ],
   "source": [
    "knnClf = knnGridSearch.best_estimator_\n",
    "knnClf"
   ]
  },
  {
   "cell_type": "markdown",
   "metadata": {},
   "source": [
    "#### KNN Classifier Function"
   ]
  },
  {
   "cell_type": "code",
   "execution_count": 11,
   "metadata": {},
   "outputs": [],
   "source": [
    "def runModelCV(X, y, cv, clf):\n",
    "    imps = list()\n",
    "    accList = list()\n",
    "    i = 1\n",
    "    for train_index, test_index in cv.split(X, y):\n",
    "        X_train, X_test = X.values[train_index], X.values[test_index]\n",
    "        y_train, y_test = y.values[train_index], y.values[test_index]  \n",
    "        clf.fit(X_train, y_train)\n",
    "        acc = clf.score(X_test, y_test)\n",
    "        accList.append(acc)\n",
    "        print(\"Model\", i, \"Accuracy:\", acc)\n",
    "        #imps.append(clf.feature_importances_)\n",
    "        i += 1\n",
    "    \n",
    "    print(\"Mean Accuracy Across Models: \",np.mean(np.asarray(accList)))\n"
   ]
  },
  {
   "cell_type": "markdown",
   "metadata": {},
   "source": [
    "#### KNN Fit and Predict Metrics"
   ]
  },
  {
   "cell_type": "code",
   "execution_count": 12,
   "metadata": {},
   "outputs": [],
   "source": [
    "def runKNNMetrics(X, y, clf):\n",
    "    y_hat = clf.predict(X)\n",
    "    print(\"======= KNN Classifier Scoring =======\")\n",
    "    acc = mt.accuracy_score(y, y_hat)\n",
    "    conf = mt.confusion_matrix(y,y_hat)\n",
    "    prec = mt.precision_score(y, y_hat)\n",
    "    recall = mt.recall_score(y, y_hat)\n",
    "    f1 = mt.f1_score(y, y_hat)\n",
    "    rocAuc = mt.roc_auc_score(y, y_hat)\n",
    "    print('accuracy:', acc.round(4))\n",
    "    print('precision:', prec.round(4))\n",
    "    print('recall:', recall.round(4))\n",
    "    print('F1:', f1.round(4))\n",
    "    print('ROC AUC:', rocAuc.round(4))\n",
    "    print(conf)    "
   ]
  },
  {
   "cell_type": "markdown",
   "metadata": {},
   "source": [
    "### KNN Modeling for Different Missing Value Strategies"
   ]
  },
  {
   "cell_type": "code",
   "execution_count": 13,
   "metadata": {
    "scrolled": false
   },
   "outputs": [
    {
     "name": "stdout",
     "output_type": "stream",
     "text": [
      "Zero Filled\n",
      "Model 1 Accuracy: 0.8104575163398693\n",
      "Model 2 Accuracy: 0.8141923436041083\n",
      "Model 3 Accuracy: 0.8104575163398693\n",
      "Model 4 Accuracy: 0.8067226890756303\n",
      "Model 5 Accuracy: 0.8034547152194211\n",
      "Model 6 Accuracy: 0.8020541549953315\n",
      "Model 7 Accuracy: 0.8137254901960784\n",
      "Model 8 Accuracy: 0.8048552754435108\n",
      "Model 9 Accuracy: 0.8109243697478992\n",
      "Model 10 Accuracy: 0.8025210084033614\n",
      "Mean Accuracy Across Models:  0.807936507936508\n",
      "CPU times: user 469 ms, sys: 1.7 ms, total: 471 ms\n",
      "Wall time: 456 ms\n"
     ]
    }
   ],
   "source": [
    "%%time\n",
    "print(\"Zero Filled\")\n",
    "runModelCV(topExoTrainFillX, exoTrainFillY, StratifiedShuffleSplit(n_splits = 10, test_size = 0.3, train_size=0.7, random_state=0),\n",
    "          knnClf)"
   ]
  },
  {
   "cell_type": "code",
   "execution_count": 16,
   "metadata": {},
   "outputs": [
    {
     "name": "stdout",
     "output_type": "stream",
     "text": [
      "======= KNN Classifier Scoring =======\n",
      "accuracy: 0.9407\n",
      "precision: 0.8947\n",
      "recall: 0.9247\n",
      "F1: 0.9094\n",
      "ROC AUC: 0.9365\n",
      "[[4591  250]\n",
      " [ 173 2124]]\n"
     ]
    }
   ],
   "source": [
    "runKNNMetrics(topExoTrainFillX, exoTrainFillY, knnClf)"
   ]
  },
  {
   "cell_type": "code",
   "execution_count": 17,
   "metadata": {
    "scrolled": true
   },
   "outputs": [],
   "source": [
    "yHat = knnClf.predict_proba(topExoTestFillX)"
   ]
  },
  {
   "cell_type": "code",
   "execution_count": 18,
   "metadata": {},
   "outputs": [
    {
     "name": "stdout",
     "output_type": "stream",
     "text": [
      "Greater Than 50% 1243\n",
      "Greater Than 90% 256\n",
      "Greater Than 95% 108\n"
     ]
    }
   ],
   "source": [
    "yHat = pd.DataFrame(yHat)\n",
    "print(\"Greater Than 50%\", np.count_nonzero(np.where(yHat[1] > 0.5)))\n",
    "print(\"Greater Than 90%\", np.count_nonzero(np.where(yHat[1] > 0.9)))\n",
    "print(\"Greater Than 95%\", np.count_nonzero(np.where(yHat[1] > 0.95)))"
   ]
  },
  {
   "cell_type": "code",
   "execution_count": 19,
   "metadata": {},
   "outputs": [
    {
     "data": {
      "text/html": [
       "<div>\n",
       "<style scoped>\n",
       "    .dataframe tbody tr th:only-of-type {\n",
       "        vertical-align: middle;\n",
       "    }\n",
       "\n",
       "    .dataframe tbody tr th {\n",
       "        vertical-align: top;\n",
       "    }\n",
       "\n",
       "    .dataframe thead th {\n",
       "        text-align: right;\n",
       "    }\n",
       "</style>\n",
       "<table border=\"1\" class=\"dataframe\">\n",
       "  <thead>\n",
       "    <tr style=\"text-align: right;\">\n",
       "      <th></th>\n",
       "      <th>0</th>\n",
       "      <th>1</th>\n",
       "    </tr>\n",
       "  </thead>\n",
       "  <tbody>\n",
       "    <tr>\n",
       "      <th>count</th>\n",
       "      <td>2426.000000</td>\n",
       "      <td>2426.000000</td>\n",
       "    </tr>\n",
       "    <tr>\n",
       "      <th>mean</th>\n",
       "      <td>0.531733</td>\n",
       "      <td>0.468267</td>\n",
       "    </tr>\n",
       "    <tr>\n",
       "      <th>std</th>\n",
       "      <td>0.326463</td>\n",
       "      <td>0.326463</td>\n",
       "    </tr>\n",
       "    <tr>\n",
       "      <th>min</th>\n",
       "      <td>0.000000</td>\n",
       "      <td>0.000000</td>\n",
       "    </tr>\n",
       "    <tr>\n",
       "      <th>25%</th>\n",
       "      <td>0.257423</td>\n",
       "      <td>0.147070</td>\n",
       "    </tr>\n",
       "    <tr>\n",
       "      <th>50%</th>\n",
       "      <td>0.486167</td>\n",
       "      <td>0.513833</td>\n",
       "    </tr>\n",
       "    <tr>\n",
       "      <th>75%</th>\n",
       "      <td>0.852930</td>\n",
       "      <td>0.742577</td>\n",
       "    </tr>\n",
       "    <tr>\n",
       "      <th>max</th>\n",
       "      <td>1.000000</td>\n",
       "      <td>1.000000</td>\n",
       "    </tr>\n",
       "  </tbody>\n",
       "</table>\n",
       "</div>"
      ],
      "text/plain": [
       "                 0            1\n",
       "count  2426.000000  2426.000000\n",
       "mean      0.531733     0.468267\n",
       "std       0.326463     0.326463\n",
       "min       0.000000     0.000000\n",
       "25%       0.257423     0.147070\n",
       "50%       0.486167     0.513833\n",
       "75%       0.852930     0.742577\n",
       "max       1.000000     1.000000"
      ]
     },
     "execution_count": 19,
     "metadata": {},
     "output_type": "execute_result"
    }
   ],
   "source": [
    "yHat.describe()"
   ]
  },
  {
   "cell_type": "code",
   "execution_count": 36,
   "metadata": {},
   "outputs": [
    {
     "name": "stdout",
     "output_type": "stream",
     "text": [
      "Scaled Zero Filled\n",
      "Model 1 Accuracy: 0.9598506069094305\n",
      "Model 2 Accuracy: 0.9673202614379085\n",
      "Model 3 Accuracy: 0.9682539682539683\n",
      "Model 4 Accuracy: 0.9631185807656396\n",
      "Model 5 Accuracy: 0.9663865546218487\n",
      "Model 6 Accuracy: 0.9673202614379085\n",
      "Model 7 Accuracy: 0.9663865546218487\n",
      "Model 8 Accuracy: 0.9649859943977591\n",
      "Model 9 Accuracy: 0.965452847805789\n",
      "Model 10 Accuracy: 0.9635854341736695\n",
      "Mean Accuracy Across Models:  0.9652661064425769\n",
      "CPU times: user 1.27 s, sys: 151 µs, total: 1.27 s\n",
      "Wall time: 1.25 s\n"
     ]
    }
   ],
   "source": [
    "%%time\n",
    "print(\"Scaled Zero Filled\")\n",
    "runModelCV(topScaledTrainFillX, exoTrainFillY, StratifiedShuffleSplit(n_splits = 10, test_size = 0.3, train_size=0.7, random_state=0),\n",
    "          knnClf)"
   ]
  },
  {
   "cell_type": "code",
   "execution_count": 37,
   "metadata": {},
   "outputs": [
    {
     "name": "stdout",
     "output_type": "stream",
     "text": [
      "======= KNN Classifier Scoring =======\n",
      "accuracy: 0.9891\n",
      "precision: 0.9752\n",
      "recall: 0.9913\n",
      "F1: 0.9832\n",
      "ROC AUC: 0.9897\n",
      "[[4783   58]\n",
      " [  20 2277]]\n"
     ]
    }
   ],
   "source": [
    "runKNNMetrics(topScaledTrainFillX, exoTrainFillY, knnClf)"
   ]
  },
  {
   "cell_type": "code",
   "execution_count": 41,
   "metadata": {},
   "outputs": [],
   "source": [
    "yHat2 = knnClf.predict_proba(topScaledTestFillX)"
   ]
  },
  {
   "cell_type": "code",
   "execution_count": 42,
   "metadata": {},
   "outputs": [
    {
     "name": "stdout",
     "output_type": "stream",
     "text": [
      "Greater Than 50% 1759\n",
      "Greater Than 90% 1084\n",
      "Greater Than 95% 595\n"
     ]
    }
   ],
   "source": [
    "yHat2 = pd.DataFrame(yHat2)\n",
    "print(\"Greater Than 50%\", np.count_nonzero(np.where(yHat2[1] > 0.5)))\n",
    "print(\"Greater Than 90%\", np.count_nonzero(np.where(yHat2[1] > 0.9)))\n",
    "print(\"Greater Than 95%\", np.count_nonzero(np.where(yHat2[1] > 0.95)))"
   ]
  },
  {
   "cell_type": "code",
   "execution_count": 43,
   "metadata": {},
   "outputs": [
    {
     "data": {
      "text/html": [
       "<div>\n",
       "<style scoped>\n",
       "    .dataframe tbody tr th:only-of-type {\n",
       "        vertical-align: middle;\n",
       "    }\n",
       "\n",
       "    .dataframe tbody tr th {\n",
       "        vertical-align: top;\n",
       "    }\n",
       "\n",
       "    .dataframe thead th {\n",
       "        text-align: right;\n",
       "    }\n",
       "</style>\n",
       "<table border=\"1\" class=\"dataframe\">\n",
       "  <thead>\n",
       "    <tr style=\"text-align: right;\">\n",
       "      <th></th>\n",
       "      <th>0</th>\n",
       "      <th>1</th>\n",
       "    </tr>\n",
       "  </thead>\n",
       "  <tbody>\n",
       "    <tr>\n",
       "      <th>count</th>\n",
       "      <td>2426.000000</td>\n",
       "      <td>2426.000000</td>\n",
       "    </tr>\n",
       "    <tr>\n",
       "      <th>mean</th>\n",
       "      <td>0.320995</td>\n",
       "      <td>0.679005</td>\n",
       "    </tr>\n",
       "    <tr>\n",
       "      <th>std</th>\n",
       "      <td>0.344524</td>\n",
       "      <td>0.344524</td>\n",
       "    </tr>\n",
       "    <tr>\n",
       "      <th>min</th>\n",
       "      <td>0.000000</td>\n",
       "      <td>0.000000</td>\n",
       "    </tr>\n",
       "    <tr>\n",
       "      <th>25%</th>\n",
       "      <td>0.088832</td>\n",
       "      <td>0.452198</td>\n",
       "    </tr>\n",
       "    <tr>\n",
       "      <th>50%</th>\n",
       "      <td>0.181469</td>\n",
       "      <td>0.818531</td>\n",
       "    </tr>\n",
       "    <tr>\n",
       "      <th>75%</th>\n",
       "      <td>0.547802</td>\n",
       "      <td>0.911168</td>\n",
       "    </tr>\n",
       "    <tr>\n",
       "      <th>max</th>\n",
       "      <td>1.000000</td>\n",
       "      <td>1.000000</td>\n",
       "    </tr>\n",
       "  </tbody>\n",
       "</table>\n",
       "</div>"
      ],
      "text/plain": [
       "                 0            1\n",
       "count  2426.000000  2426.000000\n",
       "mean      0.320995     0.679005\n",
       "std       0.344524     0.344524\n",
       "min       0.000000     0.000000\n",
       "25%       0.088832     0.452198\n",
       "50%       0.181469     0.818531\n",
       "75%       0.547802     0.911168\n",
       "max       1.000000     1.000000"
      ]
     },
     "execution_count": 43,
     "metadata": {},
     "output_type": "execute_result"
    }
   ],
   "source": [
    "yHat2.describe()"
   ]
  },
  {
   "cell_type": "markdown",
   "metadata": {},
   "source": [
    "### Generate Graphics and Predictions"
   ]
  },
  {
   "cell_type": "code",
   "execution_count": 45,
   "metadata": {},
   "outputs": [
    {
     "data": {
      "image/png": "[encoded data removed]",
      "text/plain": [
       "<Figure size 432x288 with 1 Axes>"
      ]
     },
     "metadata": {},
     "output_type": "display_data"
    }
   ],
   "source": [
    "#https://scikit-learn.org/stable/auto_examples/neighbors/plot_classification.html#sphx-glr-auto-examples-neighbors-plot-classification-py\n",
    "from matplotlib.colors import ListedColormap\n",
    "\n",
    "#X = df_scaledTrainFillX.iloc[:, :2]\n",
    "X = topScaledTrainFillX[['koi_fpflag_ss', 'koi_prad']]\n",
    "y = exoTrainFillY\n",
    "h=0.1\n",
    "cmap_light = ListedColormap(['#FFAAAA', '#AAFFAA', '#AAAAFF'])\n",
    "cmap_bold = ListedColormap(['#FF0000', '#00FF00', '#0000FF'])\n",
    "#plot KNN decision boundaries\n",
    "knnClf.fit(X, y)\n",
    "# Plot the decision boundary. For that, we will assign a color to each\n",
    "# point in the mesh [x_min, x_max]x[y_min, y_max].\n",
    "x_min, x_max = X.iloc[:, 0].min() - 1, X.iloc[:, 0].max() + 1\n",
    "y_min, y_max = X.iloc[:, 1].min() - 1, X.iloc[:, 1].max() + 1\n",
    "xx, yy = np.meshgrid(np.arange(x_min, x_max, h),\n",
    "                     np.arange(y_min, y_max, h))\n",
    "\n",
    "Z = knnClf.predict(np.c_[xx.ravel(), yy.ravel()])\n",
    "\n",
    "# Put the result into a color plot\n",
    "Z = Z.reshape(xx.shape)\n",
    "plt.figure()\n",
    "plt.pcolormesh(xx, yy, Z, cmap=cmap_light)\n",
    "\n",
    "# Plot also the training points\n",
    "plt.scatter(X.iloc[:, 0], X.iloc[:, 1], c=y, cmap=cmap_bold, edgecolor='k', s=20)\n",
    "plt.xlim(xx.min(), xx.max())\n",
    "plt.ylim(yy.min(), yy.max())\n",
    "plt.title(\"3-Class classification (k = %i, weights = '%s')\" % (81, 'distance'))\n",
    "\n",
    "plt.show()"
   ]
  },
  {
   "cell_type": "code",
   "execution_count": null,
   "metadata": {},
   "outputs": [],
   "source": []
  }
 ],
 "metadata": {
  "kernelspec": {
   "display_name": "Python 3",
   "language": "python",
   "name": "python3"
  },
  "language_info": {
   "codemirror_mode": {
    "name": "ipython",
    "version": 3
   },
   "file_extension": ".py",
   "mimetype": "text/x-python",
   "name": "python",
   "nbconvert_exporter": "python",
   "pygments_lexer": "ipython3",
   "version": "3.5.5"
  }
 },
 "nbformat": 4,
 "nbformat_minor": 2
}
