{
 "cells": [
  {
   "cell_type": "markdown",
   "metadata": {},
   "source": [
    "### Create and Register Image\n",
    "https://docs.microsoft.com/en-us/azure/machine-learning/service/how-to-deploy-and-where"
   ]
  },
  {
   "cell_type": "code",
   "execution_count": 3,
   "metadata": {},
   "outputs": [],
   "source": [
    "from azureml.core.image import ContainerImage\n",
    "\n",
    "# Image configuration\n",
    "image_config = ContainerImage.image_configuration(execution_script = \"exoplanetAPI2.py\",\n",
    "                                                 runtime = \"python\",\n",
    "                                                 conda_file = \"myenv.yml\",\n",
    "                                                 description = \"Exoplanet Classification API Image\",\n",
    "                                                 tags = {\"data\": \"exoplanets\", \"type\": \"classification\"}\n",
    "                                                 )"
   ]
  }
 ],
 "metadata": {
  "kernelspec": {
   "display_name": "Python 3",
   "language": "python",
   "name": "python3"
  },
  "language_info": {
   "codemirror_mode": {
    "name": "ipython",
    "version": 3
   },
   "file_extension": ".py",
   "mimetype": "text/x-python",
   "name": "python",
   "nbconvert_exporter": "python",
   "pygments_lexer": "ipython3",
   "version": "3.6.8"
  }
 },
 "nbformat": 4,
 "nbformat_minor": 2
}
