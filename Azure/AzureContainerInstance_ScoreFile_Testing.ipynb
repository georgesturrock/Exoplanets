{
 "cells": [
  {
   "cell_type": "code",
   "execution_count": 1,
   "metadata": {},
   "outputs": [],
   "source": [
    "import json\n",
    "import numpy as np\n",
    "import pandas as pd\n",
    "import os\n",
    "import pickle\n",
    "from sklearn.externals import joblib\n",
    "from sklearn.ensemble import RandomForestClassifier\n",
    "\n",
    "from azureml.core.model import Model"
   ]
  },
  {
   "cell_type": "code",
   "execution_count": 2,
   "metadata": {},
   "outputs": [],
   "source": [
    "model_path = Model.get_model_path('rfClfJL.p')"
   ]
  },
  {
   "cell_type": "code",
   "execution_count": 3,
   "metadata": {},
   "outputs": [
    {
     "data": {
      "text/plain": [
       "'rfClfJL.p'"
      ]
     },
     "execution_count": 3,
     "metadata": {},
     "output_type": "execute_result"
    }
   ],
   "source": [
    "model_path"
   ]
  },
  {
   "cell_type": "code",
   "execution_count": 16,
   "metadata": {},
   "outputs": [
    {
     "data": {
      "text/plain": [
       "'[\\n  {\"koi_fpflag_nt\": 0,\\n    \"koi_fpflag_ss\": 0,\\n    \"koi_fpflag_co\": 0,\\n    \"koi_fpflag_ec\": 0,\\n    \"koi_period\": 19.89913995,\\n    \"koi_time0\": 2455008.85,\\n    \"koi_eccen\": 0,\\n    \"koi_impact\": 0.9690000000000001,\\n    \"koi_duration\": 1.7822,\\n    \"koi_depth\": 10800,\\n    \"koi_ror\": 0.15404600000000002,\\n    \"koi_srho\": 7.29555,\\n    \"koi_prad\": 14.6,\\n    \"koi_sma\": 0.1419,\\n    \"koi_incl\": 88.96,\\n    \"koi_teq\": 638,\\n    \"koi_insol\": 39.3,\\n    \"koi_dor\": 53.5,\\n    \"koi_ldm_coeff2\": 0.2711,\\n    \"koi_ldm_coeff1\": 0.3858,\\n    \"koi_max_sngle_ev\": 37.159766999999995,\\n    \"koi_max_mult_ev\": 187.4491,\\n    \"koi_model_snr\": 76.3,\\n    \"koi_num_transits\": 56,\\n    \"koi_tce_plnt_num\": 1,\\n    \"koi_quarters\": 1.11111e+31,\\n    \"koi_bin_oedp_sig\": 0.6624,\\n    \"koi_steff\": 5853,\\n    \"koi_slogg\": 4.544,\\n    \"koi_smet\": -0.18,\\n    \"koi_srad\": 0.868,\\n    \"koi_smass\": 0.961,\\n    \"ra\": 297.00482,\\n    \"dec\": 48.134128999999994,\\n    \"koi_kepmag\": 15.436,\\n    \"koi_gmag\": 15.943,\\n    \"koi_rmag\": 15.39,\\n    \"koi_imag\": 15.22,\\n    \"koi_zmag\": 15.165999999999999,\\n    \"koi_jmag\": 14.254000000000001,\\n    \"koi_hmag\": 13.9,\\n    \"koi_kmag\": 13.825999999999999,\\n    \"koi_fwm_stat_sig\": 0.278,\\n    \"koi_fwm_sra\": 19.8003207,\\n    \"koi_fwm_sdec\": 48.13412,\\n    \"koi_fwm_srao\": -0.021,\\n    \"koi_fwm_sdeco\": -0.038,\\n    \"koi_fwm_prao\": 0.0007,\\n    \"koi_fwm_pdeco\": 0.0006,\\n    \"koi_dicco_mra\": -0.025,\\n    \"koi_dicco_mdec\": -0.034,\\n    \"koi_dicco_msky\": 0.042,\\n    \"koi_dikco_mra\": 0.002,\\n    \"koi_dikco_mdec\": -0.027000000000000003,\\n    \"koi_dikco_msky\": 0.027000000000000003,\\n    \"ENC_LS\": 0,\\n    \"ENC_LS+MCMC\": 1,\\n    \"ENC_MCMC\": 0,\\n    \"ENC_none\": 0\\n  }\\n]'"
      ]
     },
     "execution_count": 16,
     "metadata": {},
     "output_type": "execute_result"
    }
   ],
   "source": [
    "with open('./data/OneTestObs2.json') as onefile:\n",
    "    data = onefile.read()\n",
    "\n",
    "data"
   ]
  },
  {
   "cell_type": "code",
   "execution_count": 17,
   "metadata": {},
   "outputs": [
    {
     "name": "stdout",
     "output_type": "stream",
     "text": [
      "[{'koi_fpflag_nt': 0, 'koi_fpflag_ss': 0, 'koi_fpflag_co': 0, 'koi_fpflag_ec': 0, 'koi_period': 19.89913995, 'koi_time0': 2455008.85, 'koi_eccen': 0, 'koi_impact': 0.9690000000000001, 'koi_duration': 1.7822, 'koi_depth': 10800, 'koi_ror': 0.15404600000000002, 'koi_srho': 7.29555, 'koi_prad': 14.6, 'koi_sma': 0.1419, 'koi_incl': 88.96, 'koi_teq': 638, 'koi_insol': 39.3, 'koi_dor': 53.5, 'koi_ldm_coeff2': 0.2711, 'koi_ldm_coeff1': 0.3858, 'koi_max_sngle_ev': 37.159766999999995, 'koi_max_mult_ev': 187.4491, 'koi_model_snr': 76.3, 'koi_num_transits': 56, 'koi_tce_plnt_num': 1, 'koi_quarters': 1.11111e+31, 'koi_bin_oedp_sig': 0.6624, 'koi_steff': 5853, 'koi_slogg': 4.544, 'koi_smet': -0.18, 'koi_srad': 0.868, 'koi_smass': 0.961, 'ra': 297.00482, 'dec': 48.134128999999994, 'koi_kepmag': 15.436, 'koi_gmag': 15.943, 'koi_rmag': 15.39, 'koi_imag': 15.22, 'koi_zmag': 15.165999999999999, 'koi_jmag': 14.254000000000001, 'koi_hmag': 13.9, 'koi_kmag': 13.825999999999999, 'koi_fwm_stat_sig': 0.278, 'koi_fwm_sra': 19.8003207, 'koi_fwm_sdec': 48.13412, 'koi_fwm_srao': -0.021, 'koi_fwm_sdeco': -0.038, 'koi_fwm_prao': 0.0007, 'koi_fwm_pdeco': 0.0006, 'koi_dicco_mra': -0.025, 'koi_dicco_mdec': -0.034, 'koi_dicco_msky': 0.042, 'koi_dikco_mra': 0.002, 'koi_dikco_mdec': -0.027000000000000003, 'koi_dikco_msky': 0.027000000000000003, 'ENC_LS': 0, 'ENC_LS+MCMC': 1, 'ENC_MCMC': 0, 'ENC_none': 0}]\n"
     ]
    }
   ],
   "source": [
    "print(json.loads(data))"
   ]
  },
  {
   "cell_type": "code",
   "execution_count": 18,
   "metadata": {},
   "outputs": [],
   "source": [
    "data2 = json.loads(data)"
   ]
  },
  {
   "cell_type": "code",
   "execution_count": 19,
   "metadata": {},
   "outputs": [
    {
     "name": "stdout",
     "output_type": "stream",
     "text": [
      "<class 'pandas.core.frame.DataFrame'>\n",
      "RangeIndex: 1 entries, 0 to 0\n",
      "Data columns (total 59 columns):\n",
      "ENC_LS              1 non-null int64\n",
      "ENC_LS+MCMC         1 non-null int64\n",
      "ENC_MCMC            1 non-null int64\n",
      "ENC_none            1 non-null int64\n",
      "dec                 1 non-null float64\n",
      "koi_bin_oedp_sig    1 non-null float64\n",
      "koi_depth           1 non-null int64\n",
      "koi_dicco_mdec      1 non-null float64\n",
      "koi_dicco_mra       1 non-null float64\n",
      "koi_dicco_msky      1 non-null float64\n",
      "koi_dikco_mdec      1 non-null float64\n",
      "koi_dikco_mra       1 non-null float64\n",
      "koi_dikco_msky      1 non-null float64\n",
      "koi_dor             1 non-null float64\n",
      "koi_duration        1 non-null float64\n",
      "koi_eccen           1 non-null int64\n",
      "koi_fpflag_co       1 non-null int64\n",
      "koi_fpflag_ec       1 non-null int64\n",
      "koi_fpflag_nt       1 non-null int64\n",
      "koi_fpflag_ss       1 non-null int64\n",
      "koi_fwm_pdeco       1 non-null float64\n",
      "koi_fwm_prao        1 non-null float64\n",
      "koi_fwm_sdec        1 non-null float64\n",
      "koi_fwm_sdeco       1 non-null float64\n",
      "koi_fwm_sra         1 non-null float64\n",
      "koi_fwm_srao        1 non-null float64\n",
      "koi_fwm_stat_sig    1 non-null float64\n",
      "koi_gmag            1 non-null float64\n",
      "koi_hmag            1 non-null float64\n",
      "koi_imag            1 non-null float64\n",
      "koi_impact          1 non-null float64\n",
      "koi_incl            1 non-null float64\n",
      "koi_insol           1 non-null float64\n",
      "koi_jmag            1 non-null float64\n",
      "koi_kepmag          1 non-null float64\n",
      "koi_kmag            1 non-null float64\n",
      "koi_ldm_coeff1      1 non-null float64\n",
      "koi_ldm_coeff2      1 non-null float64\n",
      "koi_max_mult_ev     1 non-null float64\n",
      "koi_max_sngle_ev    1 non-null float64\n",
      "koi_model_snr       1 non-null float64\n",
      "koi_num_transits    1 non-null int64\n",
      "koi_period          1 non-null float64\n",
      "koi_prad            1 non-null float64\n",
      "koi_quarters        1 non-null float64\n",
      "koi_rmag            1 non-null float64\n",
      "koi_ror             1 non-null float64\n",
      "koi_slogg           1 non-null float64\n",
      "koi_sma             1 non-null float64\n",
      "koi_smass           1 non-null float64\n",
      "koi_smet            1 non-null float64\n",
      "koi_srad            1 non-null float64\n",
      "koi_srho            1 non-null float64\n",
      "koi_steff           1 non-null int64\n",
      "koi_tce_plnt_num    1 non-null int64\n",
      "koi_teq             1 non-null int64\n",
      "koi_time0           1 non-null float64\n",
      "koi_zmag            1 non-null float64\n",
      "ra                  1 non-null float64\n",
      "dtypes: float64(45), int64(14)\n",
      "memory usage: 552.0 bytes\n"
     ]
    }
   ],
   "source": [
    "df = pd.DataFrame.from_records(data2)\n",
    "df.info()"
   ]
  },
  {
   "cell_type": "code",
   "execution_count": 30,
   "metadata": {},
   "outputs": [
    {
     "data": {
      "text/html": [
       "<div>\n",
       "<style scoped>\n",
       "    .dataframe tbody tr th:only-of-type {\n",
       "        vertical-align: middle;\n",
       "    }\n",
       "\n",
       "    .dataframe tbody tr th {\n",
       "        vertical-align: top;\n",
       "    }\n",
       "\n",
       "    .dataframe thead th {\n",
       "        text-align: right;\n",
       "    }\n",
       "</style>\n",
       "<table border=\"1\" class=\"dataframe\">\n",
       "  <thead>\n",
       "    <tr style=\"text-align: right;\">\n",
       "      <th></th>\n",
       "      <th>ENC_LS</th>\n",
       "      <th>ENC_LS+MCMC</th>\n",
       "      <th>ENC_MCMC</th>\n",
       "      <th>ENC_none</th>\n",
       "      <th>dec</th>\n",
       "      <th>koi_bin_oedp_sig</th>\n",
       "      <th>koi_depth</th>\n",
       "      <th>koi_dicco_mdec</th>\n",
       "      <th>koi_dicco_mra</th>\n",
       "      <th>koi_dicco_msky</th>\n",
       "      <th>...</th>\n",
       "      <th>koi_smass</th>\n",
       "      <th>koi_smet</th>\n",
       "      <th>koi_srad</th>\n",
       "      <th>koi_srho</th>\n",
       "      <th>koi_steff</th>\n",
       "      <th>koi_tce_plnt_num</th>\n",
       "      <th>koi_teq</th>\n",
       "      <th>koi_time0</th>\n",
       "      <th>koi_zmag</th>\n",
       "      <th>ra</th>\n",
       "    </tr>\n",
       "  </thead>\n",
       "  <tbody>\n",
       "    <tr>\n",
       "      <th>0</th>\n",
       "      <td>0</td>\n",
       "      <td>1</td>\n",
       "      <td>0</td>\n",
       "      <td>0</td>\n",
       "      <td>48.134129</td>\n",
       "      <td>0.6624</td>\n",
       "      <td>10800</td>\n",
       "      <td>-0.034</td>\n",
       "      <td>-0.025</td>\n",
       "      <td>0.042</td>\n",
       "      <td>...</td>\n",
       "      <td>0.961</td>\n",
       "      <td>-0.18</td>\n",
       "      <td>0.868</td>\n",
       "      <td>7.29555</td>\n",
       "      <td>5853</td>\n",
       "      <td>1</td>\n",
       "      <td>638</td>\n",
       "      <td>2455008.85</td>\n",
       "      <td>15.166</td>\n",
       "      <td>297.00482</td>\n",
       "    </tr>\n",
       "  </tbody>\n",
       "</table>\n",
       "<p>1 rows × 59 columns</p>\n",
       "</div>"
      ],
      "text/plain": [
       "   ENC_LS  ENC_LS+MCMC  ENC_MCMC  ENC_none        dec  koi_bin_oedp_sig  \\\n",
       "0       0            1         0         0  48.134129            0.6624   \n",
       "\n",
       "   koi_depth  koi_dicco_mdec  koi_dicco_mra  koi_dicco_msky    ...      \\\n",
       "0      10800          -0.034         -0.025           0.042    ...       \n",
       "\n",
       "   koi_smass  koi_smet  koi_srad  koi_srho  koi_steff  koi_tce_plnt_num  \\\n",
       "0      0.961     -0.18     0.868   7.29555       5853                 1   \n",
       "\n",
       "   koi_teq   koi_time0  koi_zmag         ra  \n",
       "0      638  2455008.85    15.166  297.00482  \n",
       "\n",
       "[1 rows x 59 columns]"
      ]
     },
     "execution_count": 30,
     "metadata": {},
     "output_type": "execute_result"
    }
   ],
   "source": [
    "data3 = np.array(json.loads(data))\n",
    "df = pd.DataFrame.from_records(data3)\n",
    "df"
   ]
  },
  {
   "cell_type": "code",
   "execution_count": 23,
   "metadata": {},
   "outputs": [
    {
     "name": "stderr",
     "output_type": "stream",
     "text": [
      "C:\\Anaconda\\envs\\AzureML\\lib\\site-packages\\sklearn\\base.py:251: UserWarning: Trying to unpickle estimator DecisionTreeClassifier from version 0.20.1 when using version 0.20.2. This might lead to breaking code or invalid results. Use at your own risk.\n",
      "  UserWarning)\n",
      "C:\\Anaconda\\envs\\AzureML\\lib\\site-packages\\sklearn\\base.py:251: UserWarning: Trying to unpickle estimator RandomForestClassifier from version 0.20.1 when using version 0.20.2. This might lead to breaking code or invalid results. Use at your own risk.\n",
      "  UserWarning)\n"
     ]
    }
   ],
   "source": [
    "model = joblib.load('rfClfJL.p')"
   ]
  },
  {
   "cell_type": "code",
   "execution_count": 32,
   "metadata": {},
   "outputs": [
    {
     "name": "stdout",
     "output_type": "stream",
     "text": [
      "[[0.7674900243194688, 0.23250997568053122]]\n"
     ]
    }
   ],
   "source": [
    "yhat = model.predict_proba(df)\n",
    "print(json.dumps(yhat.tolist()))"
   ]
  },
  {
   "cell_type": "code",
   "execution_count": null,
   "metadata": {},
   "outputs": [],
   "source": []
  }
 ],
 "metadata": {
  "kernelspec": {
   "display_name": "Python 3",
   "language": "python",
   "name": "python3"
  },
  "language_info": {
   "codemirror_mode": {
    "name": "ipython",
    "version": 3
   },
   "file_extension": ".py",
   "mimetype": "text/x-python",
   "name": "python",
   "nbconvert_exporter": "python",
   "pygments_lexer": "ipython3",
   "version": "3.6.8"
  }
 },
 "nbformat": 4,
 "nbformat_minor": 2
}
