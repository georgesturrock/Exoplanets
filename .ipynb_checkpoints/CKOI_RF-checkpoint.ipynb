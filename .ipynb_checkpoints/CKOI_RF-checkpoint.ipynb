{
 "cells": [
  {
   "cell_type": "markdown",
   "metadata": {},
   "source": [
    "# RandomForest Exoplanet Classification using Cumulative Object of Interest Data"
   ]
  },
  {
   "cell_type": "code",
   "execution_count": 1,
   "metadata": {},
   "outputs": [],
   "source": [
    "import pandas as pd\n",
    "import numpy as np\n",
    "import seaborn as sns\n",
    "import warnings\n",
    "import matplotlib.pyplot as plt\n",
    "warnings.filterwarnings('ignore')\n",
    "\n",
    "pd.set_option('display.max_row', 100)\n",
    "pd.set_option('display.max_columns', 75)"
   ]
  },
  {
   "cell_type": "markdown",
   "metadata": {},
   "source": [
    "## RandomForest Classifier\n"
   ]
  },
  {
   "cell_type": "code",
   "execution_count": 2,
   "metadata": {},
   "outputs": [],
   "source": [
    "from sklearn.ensemble import RandomForestClassifier, ExtraTreesClassifier, VotingClassifier\n",
    "from sklearn import metrics as mt\n",
    "from sklearn.model_selection import StratifiedKFold, StratifiedShuffleSplit, cross_validate"
   ]
  },
  {
   "cell_type": "markdown",
   "metadata": {},
   "source": [
    "Read pickle files from Data Prep."
   ]
  },
  {
   "cell_type": "code",
   "execution_count": 3,
   "metadata": {},
   "outputs": [],
   "source": [
    "#Read Pickle Files\n",
    "#try:\n",
    "#    del df_rfecvTrainFillX, df_rfecvTestFillX, df_rfecvTrainMiceX, df_rfecvTestMiceX, topExoTrainFillX, topExoTestFillX, topExoTrainMiceX, topExoTestMiceX\n",
    "#except Exception as e:\n",
    "#    print(e)\n",
    "    \n",
    "df_scaledTrainFillX = pd.read_pickle(\"./pkl/df_scaledTrainFillX.pkl\")\n",
    "df_scaledTestFillX = pd.read_pickle(\"./pkl/df_scaledTestFillX.pkl\")\n",
    "df_scaledTrainMiceX = pd.read_pickle(\"./pkl/df_scaledTrainMiceX.pkl\")\n",
    "df_scaledTestMiceX = pd.read_pickle(\"./pkl/df_scaledTestMiceX.pkl\")\n",
    "\n",
    "exoTestFillX = pd.read_pickle(\"./pkl/exoTestFillX.pkl\")\n",
    "exoTrainFillX = pd.read_pickle(\"./pkl/exoTrainFillX.pkl\")\n",
    "exoTestMiceX = pd.read_pickle(\"./pkl/exoTestMiceX.pkl\")\n",
    "exoTrainMiceX = pd.read_pickle(\"./pkl/exoTrainMiceX.pkl\")\n",
    "exoTrainX = pd.read_pickle('./pkl/exoTrainX.pkl')\n",
    "exoTestX = pd.read_pickle('./pkl/exoTestX.pkl')\n",
    "\n",
    "#Response Variables\n",
    "exoTrainFillY = pd.read_pickle(\"./pkl/exoTrainFillY.pkl\")\n",
    "exoTestFillY = pd.read_pickle(\"./pkl/exoTestFillY.pkl\")\n",
    "exoTrainMiceY = pd.read_pickle(\"./pkl/exoTrainMiceY.pkl\")\n",
    "exoTestMiceY = pd.read_pickle(\"./pkl/exoTestMiceY.pkl\")\n",
    "exoTestY = pd.read_pickle(\"./pkl/exoTestY.pkl\")\n",
    "exoTrainY = pd.read_pickle(\"./pkl/exoTrainY.pkl\")"
   ]
  },
  {
   "cell_type": "code",
   "execution_count": 4,
   "metadata": {},
   "outputs": [],
   "source": [
    "#exoTestFillX.drop(['koi_count'], inplace=True, axis=1)\n",
    "#exoTrainFillX.drop(['koi_count'], inplace=True, axis=1)"
   ]
  },
  {
   "cell_type": "markdown",
   "metadata": {},
   "source": [
    "#### RandomForest Classifier Function"
   ]
  },
  {
   "cell_type": "code",
   "execution_count": 5,
   "metadata": {},
   "outputs": [],
   "source": [
    "def runModelCV(X, y, cv, clf, varImp = True):\n",
    "    imps = list()\n",
    "    accList = list()\n",
    "    f1List = list()\n",
    "    recList = list()\n",
    "    i = 1\n",
    "    for train_index, test_index in cv.split(X, y):\n",
    "        X_train, X_test = X.values[train_index], X.values[test_index]\n",
    "        y_train, y_test = y.values[train_index], y.values[test_index]  \n",
    "        clf.fit(X_train, y_train)\n",
    "        acc = clf.score(X_test, y_test)\n",
    "        accList.append(acc)\n",
    "        print(\"Model\", i, \"Accuracy:\", acc)\n",
    "        imps.append(clf.feature_importances_)\n",
    "        i += 1\n",
    "    \n",
    "    print(\"Mean Accuracy Across Models: \",np.mean(np.asarray(accList)))\n",
    "    \n",
    "#    y_hat = clf.predict(X_test)\n",
    "#    print(\"======= RandomForest Classifier Scoring =======\")\n",
    "#    acc = mt.accuracy_score(y_test, y_hat)\n",
    "#    conf = mt.confusion_matrix(y_test,y_hat)\n",
    "#    prec = mt.precision_score(y_test, y_hat)\n",
    "#    recall = mt.recall_score(y_test, y_hat)\n",
    "#    f1 = mt.f1_score(y_test, y_hat)\n",
    "#    rocAuc = mt.roc_auc_score(y_test, y_hat)\n",
    "#    print('accuracy:', acc.round(4))\n",
    "#    print('precision:', prec.round(4))\n",
    "#    print('recall:', recall.round(4))\n",
    "#    print('F1:', f1.round(4))\n",
    "#    print('ROC AUC:', rocAuc.round(4))\n",
    "#    print(conf)    \n",
    "    \n",
    "    if(varImp):\n",
    "        fig, ax = plt.subplots(figsize=(15,10))\n",
    "        im = ax.imshow(imps)\n",
    "\n",
    "        ax.set_xticks(np.arange(X.shape[1]))\n",
    "        ax.set_yticks(np.arange(i - 1))\n",
    "        ax.set_xticklabels(list(X))\n",
    "        ax.set_yticklabels(np.arange(i) + 1)\n",
    "        ax.set_xlabel(\"Feature\")\n",
    "        ax.set_ylabel(\"Model\")\n",
    "        plt.setp(ax.get_xticklabels(), rotation=45, ha=\"right\",\n",
    "                 rotation_mode=\"anchor\")\n",
    "        ax.set_title(\"Comparison of Variable Importance Across CV Runs\")\n",
    "        fig.tight_layout()\n",
    "        plt.show()"
   ]
  },
  {
   "cell_type": "markdown",
   "metadata": {},
   "source": [
    "#### GridSearchCV"
   ]
  },
  {
   "cell_type": "code",
   "execution_count": null,
   "metadata": {},
   "outputs": [
    {
     "name": "stdout",
     "output_type": "stream",
     "text": [
      "CPU times: user 204 µs, sys: 26 µs, total: 230 µs\n",
      "Wall time: 234 µs\n"
     ]
    }
   ],
   "source": [
    "%%time\n",
    "\n",
    "#GridSearchCV SVC\n",
    "from sklearn.model_selection import GridSearchCV\n",
    "\n",
    "#Create Cross Validation Objects\n",
    "#cvss = ShuffleSplit(n_splits = 10, test_size=0.20, random_state=0)\n",
    "cvsss = StratifiedShuffleSplit(n_splits = 5, test_size=0.20, random_state=0)\n",
    "cv = StratifiedKFold(n_splits=5)\n",
    "\n",
    "rfEst = RandomForestClassifier()\n",
    "\n",
    "parameters = { 'n_estimators':[100, 200, 300, 400, 500]\n",
    "              ,'max_features': [None, \"auto\", \"sqrt\", \"log2\"]\n",
    "              #,'min_samples_split': [20, 50, 100, 200]\n",
    "              , 'max_depth': [5, 10, 15]\n",
    "              , 'min_samples_leaf': [5, 10, 20]\n",
    "              ,'random_state': [0]\n",
    "             }\n",
    "\n",
    "#Create a grid search object using the  \n",
    "regGridSearch = GridSearchCV(estimator=rfEst\n",
    "                   , n_jobs=-1 # jobs to run in parallel\n",
    "                   , verbose=1 # low verbosity\n",
    "                   , param_grid=parameters\n",
    "                   #, cv=cv\n",
    "                   , cv=cvsss\n",
    "                   , scoring='recall') #'accuracy' 'f1' 'recall'\n"
   ]
  },
  {
   "cell_type": "code",
   "execution_count": null,
   "metadata": {},
   "outputs": [
    {
     "name": "stdout",
     "output_type": "stream",
     "text": [
      "Fitting 5 folds for each of 180 candidates, totalling 900 fits\n"
     ]
    }
   ],
   "source": [
    "#Perform hyperparameter search to find the best combination of parameters for our data\n",
    "regGridSearch.fit(exoTrainFillX, exoTrainFillY)\n",
    "print(regGridSearch.best_params_, regGridSearch.best_score_)"
   ]
  },
  {
   "cell_type": "markdown",
   "metadata": {},
   "source": [
    "###### SAVED:  Stratified K Fold = 10 splits\n",
    "Fitting 10 folds for each of 240 candidates, totalling 2400 fits\n",
    "[Parallel(n_jobs=-1)]: Done  42 tasks      | elapsed:  6.6min\n",
    "[Parallel(n_jobs=-1)]: Done 192 tasks      | elapsed: 32.1min\n",
    "[Parallel(n_jobs=-1)]: Done 442 tasks      | elapsed: 39.6min\n",
    "[Parallel(n_jobs=-1)]: Done 792 tasks      | elapsed: 46.9min\n",
    "[Parallel(n_jobs=-1)]: Done 1242 tasks      | elapsed: 97.2min\n",
    "[Parallel(n_jobs=-1)]: Done 1792 tasks      | elapsed: 147.3min\n",
    "[Parallel(n_jobs=-1)]: Done 2400 out of 2400 | elapsed: 169.9min finished\n",
    "\n",
    "{'max_features': 'auto', 'max_depth': 10, 'min_samples_split': 20, 'n_estimators': 100, 'random_state': 0} 0.991454188848417\n",
    "\n",
    "CPU times: user 34.9 s, sys: 3.07 s, total: 38 s\n",
    "Wall time: 2h 49min 54s"
   ]
  },
  {
   "cell_type": "markdown",
   "metadata": {},
   "source": [
    "##### SAVED:  StratifiedShuffleSplit 5 splits\n",
    "Fitting 5 folds for each of 180 candidates, totalling 900 fits\n",
    "[Parallel(n_jobs=-1)]: Done  42 tasks      | elapsed:  5.9min\n",
    "[Parallel(n_jobs=-1)]: Done 192 tasks      | elapsed: 13.5min\n",
    "[Parallel(n_jobs=-1)]: Done 442 tasks      | elapsed: 31.0min\n",
    "[Parallel(n_jobs=-1)]: Done 792 tasks      | elapsed: 52.5min\n",
    "[Parallel(n_jobs=-1)]: Done 900 out of 900 | elapsed: 55.4min finished\n",
    "\n",
    "{'min_samples_leaf': 5, 'max_features': None, 'max_depth': 15, 'random_state': 0, 'n_estimators': 400} 0.9856521739130435\n",
    "\n",
    "CPU times: user 1min 4s, sys: 946 ms, total: 1min 5s\n",
    "Wall time: 56min 16s"
   ]
  },
  {
   "cell_type": "code",
   "execution_count": null,
   "metadata": {},
   "outputs": [],
   "source": [
    "#regGridSearch.fit(exoTrainMiceX, exoTrainMiceY)\n",
    "#print(regGridSearch.best_params_, regGridSearch.best_score_)\n",
    "regGridSearch.best_params_.values()"
   ]
  },
  {
   "cell_type": "markdown",
   "metadata": {},
   "source": [
    "### RandomForest Modeling for Different Missing Value Strategies"
   ]
  },
  {
   "cell_type": "code",
   "execution_count": null,
   "metadata": {},
   "outputs": [],
   "source": [
    "%%time\n",
    "print(\"Zero Filled\")\n",
    "runModelCV(exoTrainFillX, exoTrainFillY, StratifiedShuffleSplit(n_splits = 10, test_size = 0.3, train_size=0.7, random_state=0),\n",
    "          RandomForestClassifier(min_samples_leaf=10, max_features=None, n_estimators=400, max_depth=8, random_state=0, n_jobs=-1))"
   ]
  },
  {
   "cell_type": "code",
   "execution_count": null,
   "metadata": {},
   "outputs": [],
   "source": [
    "%%time\n",
    "print(\"KNN Imputation\")\n",
    "runModelCV(exoTrainMiceX, exoTrainMiceY, StratifiedShuffleSplit(n_splits = 10, test_size = 0.3, train_size=0.7, random_state=0),\n",
    "          RandomForestClassifier(min_samples_leaf=5, max_features=None, n_estimators=400, max_depth=15, random_state=0, n_jobs=-1))"
   ]
  },
  {
   "cell_type": "code",
   "execution_count": null,
   "metadata": {
    "scrolled": false
   },
   "outputs": [],
   "source": [
    "%%time\n",
    "print(\"Scaled Zero Filled\")\n",
    "runModelCV(df_scaledTrainFillX, exoTrainFillY, StratifiedShuffleSplit(n_splits = 10, test_size = 0.3, train_size=0.7, random_state=0),\n",
    "          RandomForestClassifier(min_samples_leaf=5, max_features=None, n_estimators=400, max_depth=15, random_state=0, n_jobs=-1))"
   ]
  },
  {
   "cell_type": "code",
   "execution_count": null,
   "metadata": {},
   "outputs": [],
   "source": [
    "%%time\n",
    "print(\"Scaled KNN Imputation\")\n",
    "runModelCV(df_scaledTrainMiceX, exoTrainMiceY, StratifiedShuffleSplit(n_splits = 10, test_size = 0.3, train_size=0.7, random_state=0),\n",
    "          RandomForestClassifier(min_samples_leaf=5, max_features=None, n_estimators=400, max_depth=15, random_state=0, n_jobs=-1))"
   ]
  },
  {
   "cell_type": "markdown",
   "metadata": {},
   "source": [
    "### Generate Graphics and Predictions"
   ]
  },
  {
   "cell_type": "code",
   "execution_count": null,
   "metadata": {},
   "outputs": [],
   "source": [
    "#From https://towardsdatascience.com/how-to-visualize-a-decision-tree-from-a-random-forest-in-python-using-scikit-learn-38ad2d75f21c\n",
    "\n",
    "from sklearn.tree import export_graphviz\n",
    "\n",
    "#rfClf = RandomForestClassifier(n_estimators=400, max_depth=9, min_samples_split=100, random_state=0,  n_jobs=-1)\n",
    "#rfClf = RandomForestClassifier(max_features='auto', n_estimators=100, max_depth=10, min_samples_split=20, random_state=0,  n_jobs=-1)\n",
    "rfClf = RandomForestClassifier(min_samples_leaf=10, max_features=None, n_estimators=300, max_depth=8, random_state=0, n_jobs=-1)\n",
    "\n",
    "rfClf.fit(exoTrainFillX, exoTrainFillY)\n",
    "rfYHat = rfClf.predict(exoTrainFillX)\n",
    "acc = mt.accuracy_score(exoTrainFillY, rfYHat)\n",
    "conf = mt.confusion_matrix(exoTrainFillY,rfYHat)\n",
    "prec = mt.precision_score(exoTrainFillY, rfYHat)\n",
    "recall = mt.recall_score(exoTrainFillY, rfYHat)\n",
    "f1 = mt.f1_score(exoTrainFillY, rfYHat)\n",
    "rocAuc = mt.roc_auc_score(exoTrainFillY, rfYHat)\n",
    "print('accuracy:', acc.round(4))\n",
    "print('precision:', prec.round(4))\n",
    "print('recall:', recall.round(4))\n",
    "print('F1:', f1.round(4))\n",
    "print('ROC AUC:', rocAuc.round(4))\n",
    "print(conf)    \n"
   ]
  },
  {
   "cell_type": "code",
   "execution_count": null,
   "metadata": {},
   "outputs": [],
   "source": [
    "#Feature Importance Bar Plot\n",
    "fi = pd.DataFrame({'feature': list(exoTrainFillX.columns),\n",
    "                   'importance': rfClf.feature_importances_}).\\\n",
    "                    sort_values('importance', ascending = False)\n",
    "\n",
    "print(fi.describe())\n",
    "fi = fi[fi.importance > 0.001194]\n",
    "    \n",
    "plt.figure(figsize=(10,8))\n",
    "ax = sns.barplot(x='importance', y='feature', data=fi)"
   ]
  },
  {
   "cell_type": "code",
   "execution_count": null,
   "metadata": {},
   "outputs": [],
   "source": [
    "export_graphviz(rfClf.estimators_[5], out_file='tree.dot', feature_names=exoTrainFillX.columns, \n",
    "                class_names=[\"FALSE POSITIVE\", \"EXOPLANET\"], rounded=True, proportion=False, precision=2, filled=True)\n",
    "\n",
    "# Convert to png using system command (requires Graphviz)\n",
    "from subprocess import call\n",
    "call(['dot', '-Tpng', 'tree.dot', '-o', 'tree.png', '-Gdpi=600'])\n",
    "\n",
    "# Display in jupyter notebook\n",
    "from IPython.display import Image\n",
    "Image(filename = 'tree.png')"
   ]
  },
  {
   "cell_type": "code",
   "execution_count": null,
   "metadata": {},
   "outputs": [],
   "source": [
    "#rfClf.feature_importances_\n",
    "rfYHat"
   ]
  },
  {
   "cell_type": "code",
   "execution_count": null,
   "metadata": {},
   "outputs": [],
   "source": [
    "yHat = rfClf.predict_proba(exoTestFillX)"
   ]
  },
  {
   "cell_type": "code",
   "execution_count": null,
   "metadata": {},
   "outputs": [],
   "source": [
    "yHat = pd.DataFrame(yHat)\n",
    "print(\"Greater Than 90%\", np.count_nonzero(np.where(yHat[1] > 0.9)))\n",
    "print(\"Greater Than 95%\", np.count_nonzero(np.where(yHat[1] > 0.95)))"
   ]
  },
  {
   "cell_type": "code",
   "execution_count": null,
   "metadata": {},
   "outputs": [],
   "source": [
    "yHat.describe()"
   ]
  },
  {
   "cell_type": "code",
   "execution_count": null,
   "metadata": {},
   "outputs": [],
   "source": []
  }
 ],
 "metadata": {
  "kernelspec": {
   "display_name": "Python 3",
   "language": "python",
   "name": "python3"
  },
  "language_info": {
   "codemirror_mode": {
    "name": "ipython",
    "version": 3
   },
   "file_extension": ".py",
   "mimetype": "text/x-python",
   "name": "python",
   "nbconvert_exporter": "python",
   "pygments_lexer": "ipython3",
   "version": "3.5.5"
  }
 },
 "nbformat": 4,
 "nbformat_minor": 2
}
