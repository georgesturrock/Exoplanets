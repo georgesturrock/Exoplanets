{
 "cells": [
  {
   "cell_type": "markdown",
   "metadata": {},
   "source": [
    "# Exoplanet SVM Classification using Cumulative Object of Interest Data"
   ]
  },
  {
   "cell_type": "code",
   "execution_count": 2,
   "metadata": {},
   "outputs": [],
   "source": [
    "import pandas as pd\n",
    "import numpy as np\n",
    "import seaborn as sns\n",
    "import warnings\n",
    "import matplotlib.pyplot as plt\n",
    "warnings.filterwarnings('ignore')\n",
    "\n",
    "pd.set_option('display.max_row', 100)\n",
    "pd.set_option('display.max_columns', 75)"
   ]
  },
  {
   "cell_type": "markdown",
   "metadata": {},
   "source": [
    "## Support Vector Machine\n"
   ]
  },
  {
   "cell_type": "code",
   "execution_count": 3,
   "metadata": {},
   "outputs": [],
   "source": [
    "from sklearn.svm import SVC\n",
    "from sklearn.preprocessing import StandardScaler\n",
    "from sklearn import metrics as mt"
   ]
  },
  {
   "cell_type": "markdown",
   "metadata": {},
   "source": [
    "Read pickle files from data prep."
   ]
  },
  {
   "cell_type": "code",
   "execution_count": 24,
   "metadata": {},
   "outputs": [],
   "source": [
    "#Read Pickle Files\n",
    "try:\n",
    "    del df_rfecvTrainFillX, df_rfecvTestFillX, df_rfecvTrainMiceX, df_rfecvTestMiceX, topExoTrainFillX, topExoTestFillX, topExoTrainMiceX, topExoTestMiceX\n",
    "except Exception as e:\n",
    "    print(e)\n",
    "    \n",
    "df_rfecvTrainFillX = pd.read_pickle(\"./pkl/df_rfecvTrainFillX.pkl\")\n",
    "df_rfecvTestFillX = pd.read_pickle(\"./pkl/df_rfecvTestFillX.pkl\")\n",
    "topExoTrainFillX = pd.read_pickle(\"./pkl/topExoTrainFillX.pkl\")\n",
    "topExoTestFillX = pd.read_pickle(\"./pkl/topExoTestFillX.pkl\")\n",
    "df_scaledTrainFillX = pd.read_pickle(\"./pkl/df_scaledTrainFillX.pkl\")\n",
    "df_scaledTestFillX = pd.read_pickle(\"./pkl/df_scaledTestFillX.pkl\")\n",
    "df_scaledTrainMiceX = pd.read_pickle(\"./pkl/df_scaledTrainMiceX.pkl\")\n",
    "exoTrainFillX = pd.read_pickle(\"./pkl/exoTrainFillX.pkl\")\n",
    "exoTestFillX = pd.read_pickle(\"./pkl/exoTestFillX.pkl\")\n",
    "\n",
    "df_rfecvTrainMiceX = pd.read_pickle(\"./pkl/df_rfecvTrainMiceX.pkl\")\n",
    "df_rfecvTestMiceX = pd.read_pickle(\"./pkl/df_rfecvTestMiceX.pkl\")\n",
    "topExoTrainMiceX = pd.read_pickle(\"./pkl/topExoTrainMiceX.pkl\")\n",
    "topExoTestMiceX = pd.read_pickle(\"./pkl/topExoTestMiceX.pkl\")\n",
    "\n",
    "\n",
    "#Response Variables\n",
    "exoTrainFillY = pd.read_pickle(\"./pkl/exoTrainFillY.pkl\")\n",
    "exoTestFillY = pd.read_pickle(\"./pkl/exoTestFillY.pkl\")\n",
    "exoTrainMiceY = pd.read_pickle(\"./pkl/exoTrainMiceY.pkl\")\n",
    "exoTestMiceY = pd.read_pickle(\"./pkl/exoTestMiceY.pkl\")\n",
    "exoTestY = pd.read_pickle(\"./pkl/exoTestY.pkl\")\n",
    "exoTrainY = pd.read_pickle(\"./pkl/exoTrainY.pkl\")"
   ]
  },
  {
   "cell_type": "markdown",
   "metadata": {},
   "source": [
    "### GridSearchCV\n",
    "GridSearchCV is used to identify the optimal combination of parameters to use in out support vector machine model.  The ShuffleSplit cross validation object used in the remainder of the notebook is created here as well."
   ]
  },
  {
   "cell_type": "code",
   "execution_count": 12,
   "metadata": {},
   "outputs": [],
   "source": [
    "from sklearn.model_selection import GridSearchCV\n",
    "from sklearn.model_selection import ShuffleSplit, cross_validate, StratifiedKFold, StratifiedShuffleSplit\n",
    "\n",
    "#Create Cross Validation Objects\n",
    "cvss = ShuffleSplit(n_splits = 10, test_size=0.20, random_state=0)\n",
    "cvsss = StratifiedShuffleSplit(n_splits = 10, test_size=0.20, random_state=0)\n",
    "cv = StratifiedKFold(n_splits=10)"
   ]
  },
  {
   "cell_type": "code",
   "execution_count": 7,
   "metadata": {},
   "outputs": [
    {
     "name": "stdout",
     "output_type": "stream",
     "text": [
      "Fitting 10 folds for each of 63 candidates, totalling 630 fits\n"
     ]
    },
    {
     "name": "stderr",
     "output_type": "stream",
     "text": [
      "[Parallel(n_jobs=8)]: Done  34 tasks      | elapsed:   56.6s\n",
      "[Parallel(n_jobs=8)]: Done 184 tasks      | elapsed:  4.4min\n",
      "[Parallel(n_jobs=8)]: Done 434 tasks      | elapsed:  7.1min\n",
      "[Parallel(n_jobs=8)]: Done 630 out of 630 | elapsed: 27.4min finished\n"
     ]
    },
    {
     "data": {
      "text/plain": [
       "GridSearchCV(cv=StratifiedKFold(n_splits=10, random_state=None, shuffle=False),\n",
       "       error_score='raise',\n",
       "       estimator=SVC(C=1.0, cache_size=200, class_weight=None, coef0=0.0,\n",
       "  decision_function_shape='ovr', degree=3, gamma='auto', kernel='rbf',\n",
       "  max_iter=-1, probability=False, random_state=None, shrinking=True,\n",
       "  tol=0.001, verbose=False),\n",
       "       fit_params=None, iid=True, n_jobs=8,\n",
       "       param_grid={'degree': [2, 3, 4], 'gamma': ['auto'], 'random_state': [0], 'kernel': ['linear', 'poly', 'rbf'], 'C': [0.001, 0.01, 0.1, 1, 10, 100, 1000]},\n",
       "       pre_dispatch='2*n_jobs', refit=True, return_train_score='warn',\n",
       "       scoring='accuracy', verbose=1)"
      ]
     },
     "execution_count": 7,
     "metadata": {},
     "output_type": "execute_result"
    }
   ],
   "source": [
    "#GridSearchCV SVC\n",
    "svcEstimator = SVC()\n",
    "\n",
    "parameters = { 'kernel':['linear', 'poly', 'rbf']\n",
    "              ,'C': [0.001, 0.01, 0.1, 1, 10, 100, 1000]\n",
    "              ,'degree': [2, 3, 4]\n",
    "              #,'class_weight':['dict', 'balanced', 'None']\n",
    "              ,'random_state': [0]\n",
    "              ,'gamma': ['auto']\n",
    "             }\n",
    "\n",
    "#Create a grid search object using the  \n",
    "regGridSearch = GridSearchCV(estimator=svcEstimator\n",
    "                   , n_jobs=8 # jobs to run in parallel\n",
    "                   , verbose=1 # low verbosity\n",
    "                   , param_grid=parameters\n",
    "                   , cv=cv # \n",
    "                   , scoring='accuracy')\n",
    "\n",
    "#Perform hyperparameter search to find the best combination of parameters for our data\n",
    "regGridSearch.fit(df_scaledTrainFillX, exoTrainFillY)"
   ]
  },
  {
   "cell_type": "markdown",
   "metadata": {},
   "source": [
    "Print the best estimator and it's accuracy score for the zero filled data."
   ]
  },
  {
   "cell_type": "code",
   "execution_count": 8,
   "metadata": {},
   "outputs": [
    {
     "name": "stdout",
     "output_type": "stream",
     "text": [
      "SVC(C=100, cache_size=200, class_weight=None, coef0=0.0,\n",
      "  decision_function_shape='ovr', degree=2, gamma='auto', kernel='rbf',\n",
      "  max_iter=-1, probability=False, random_state=0, shrinking=True,\n",
      "  tol=0.001, verbose=False)\n",
      "0.9888\n"
     ]
    }
   ],
   "source": [
    "#regGridSearch exoTrainFillX data\n",
    "print(regGridSearch.best_estimator_)\n",
    "print(regGridSearch.best_score_.round(4))"
   ]
  },
  {
   "cell_type": "markdown",
   "metadata": {},
   "source": [
    "Run GridSearchCV and print the best estimator and it's accuracy score for the Knn Imputed data."
   ]
  },
  {
   "cell_type": "code",
   "execution_count": 11,
   "metadata": {},
   "outputs": [
    {
     "name": "stdout",
     "output_type": "stream",
     "text": [
      "Fitting 10 folds for each of 63 candidates, totalling 630 fits\n"
     ]
    },
    {
     "name": "stderr",
     "output_type": "stream",
     "text": [
      "[Parallel(n_jobs=8)]: Done  34 tasks      | elapsed:   51.8s\n",
      "[Parallel(n_jobs=8)]: Done 184 tasks      | elapsed:  4.3min\n",
      "[Parallel(n_jobs=8)]: Done 434 tasks      | elapsed:  7.1min\n",
      "[Parallel(n_jobs=8)]: Done 630 out of 630 | elapsed: 29.5min finished\n"
     ]
    },
    {
     "name": "stdout",
     "output_type": "stream",
     "text": [
      "SVC(C=100, cache_size=200, class_weight=None, coef0=0.0,\n",
      "  decision_function_shape='ovr', degree=2, gamma='auto', kernel='rbf',\n",
      "  max_iter=-1, probability=False, random_state=0, shrinking=True,\n",
      "  tol=0.001, verbose=False)\n",
      "0.9873\n"
     ]
    }
   ],
   "source": [
    "#regGridSearch exoTrainMiceX data\n",
    "regGridSearch.fit(df_scaledTrainMiceX, exoTrainMiceY)\n",
    "print(regGridSearch.best_estimator_)\n",
    "print(regGridSearch.best_score_.round(4))\n",
    "\n",
    "##0.9878 @ fancy impute KNN = 10\n",
    "##0.9885 @ fancy impute KNN = 21\n",
    "##0.9885 @ fancy impute KNN = 83"
   ]
  },
  {
   "cell_type": "markdown",
   "metadata": {},
   "source": [
    "### Recursive Feature Elimination\n",
    "This dataset has a relatively high number of features.  Unedited it contains over eighty features.  This number was cut to 61 in the data cleansing routines.  Utilizing all 61 features to train the SVM model could result in overfitting and produced less than optimal results on the test data set or any new objects of interest in the future.  Recursive feature elimination will be used for the zero filled and Knn imputed datasets to determine which features are the most significant."
   ]
  },
  {
   "cell_type": "markdown",
   "metadata": {},
   "source": [
    "#### RFECV Function"
   ]
  },
  {
   "cell_type": "code",
   "execution_count": 12,
   "metadata": {},
   "outputs": [],
   "source": [
    "from sklearn.feature_selection import RFECV\n",
    "\n",
    "def f_rfecv(est, st, cv, score, verb, X, y):\n",
    "    rfecv = RFECV(estimator=est, step=st, cv=cv, scoring=score, verbose=verb, n_jobs=6)\n",
    "    rfecv.fit(X, y)\n",
    "    print(rfecv.ranking_)\n",
    "    plt.figure()\n",
    "    plt.xlabel(\"Number of features selected\")\n",
    "    plt.ylabel(\"Cross validation score (nb of correct classifications)\")\n",
    "    plt.plot(range(1, len(rfecv.grid_scores_) + 1), rfecv.grid_scores_)\n",
    "    plt.grid(b=True, which='both', axis='both')\n",
    "    plt.show()\n",
    "    print(\"Optimal number of features : %d\" % rfecv.n_features_, \"|| Score:\", rfecv.grid_scores_.max().round(4))\n",
    "    return;"
   ]
  },
  {
   "cell_type": "markdown",
   "metadata": {},
   "source": [
    "#### RFECV df_scaledTrainFillX"
   ]
  },
  {
   "cell_type": "code",
   "execution_count": 13,
   "metadata": {},
   "outputs": [
    {
     "name": "stdout",
     "output_type": "stream",
     "text": [
      "[12  1  1  1 16  7 14 17  1  1  1  1  1  1  1  1  1 11  1  1  1  1  1  1\n",
      "  1  1  1  2  1  1  9  1  1  1  1  5  1  1  1  6 10  1  1  1 13  1  4  3\n",
      "  1  1  1  1 15  1  1  1  1  1  1  8  1]\n",
      "CPU times: user 4min 36s, sys: 1.54 s, total: 4min 38s\n",
      "Wall time: 57min 52s\n"
     ]
    }
   ],
   "source": [
    "%%time\n",
    "\n",
    "from sklearn.feature_selection import RFECV\n",
    "\n",
    "rfecv = RFECV(estimator=SVC(C=100, cache_size=200, class_weight=None, coef0=0.0,\n",
    "  decision_function_shape='ovr', degree=2, gamma='auto', kernel='linear',\n",
    "  max_iter=-1, probability=False, random_state=0, shrinking=True,\n",
    "  tol=0.001, verbose=False), step=1, cv=cvsss, scoring='accuracy', verbose=0, n_jobs=12)\n",
    "rfecv.fit(df_scaledTrainFillX, exoTrainFillY)\n",
    "print(rfecv.ranking_)"
   ]
  },
  {
   "cell_type": "markdown",
   "metadata": {},
   "source": [
    "Chart showing the optimal number of features for the zero filled data set using accuracy to compare different feature combinations."
   ]
  },
  {
   "cell_type": "code",
   "execution_count": 14,
   "metadata": {},
   "outputs": [
    {
     "data": {
      "image/png": "[encoded data removed]",
      "text/plain": [
       "<Figure size 432x288 with 1 Axes>"
      ]
     },
     "metadata": {},
     "output_type": "display_data"
    },
    {
     "name": "stdout",
     "output_type": "stream",
     "text": [
      "Optimal number of features : 45 || Score: 0.9812\n",
      "Top 13 features : || Score: 0.9754\n",
      "Top 17 features : || Score: 0.9775\n"
     ]
    }
   ],
   "source": [
    "plt.figure()\n",
    "plt.title(\"Feature Selection - Zero Filled Data\")\n",
    "plt.xlabel(\"Number of features selected\")\n",
    "plt.ylabel(\"Cross validation accuracy score\")\n",
    "plt.plot(range(1, len(rfecv.grid_scores_) + 1), rfecv.grid_scores_)\n",
    "plt.xticks(np.arange(0,61,5))\n",
    "plt.grid(b=True, which='both', axis='both')\n",
    "plt.show()\n",
    "print(\"Optimal number of features : %d\" % rfecv.n_features_, \"|| Score:\", rfecv.grid_scores_.max().round(4))\n",
    "print(\"Top 13 features :\",  \"|| Score:\", rfecv.grid_scores_[12].round(4))\n",
    "print(\"Top 17 features :\",  \"|| Score:\", rfecv.grid_scores_[16].round(4))"
   ]
  },
  {
   "cell_type": "code",
   "execution_count": 15,
   "metadata": {},
   "outputs": [
    {
     "data": {
      "text/plain": [
       "array([0.67787115, 0.77121849, 0.79131653, 0.82394958, 0.85679272,\n",
       "       0.90791317, 0.92282913, 0.94628852, 0.95518207, 0.95812325,\n",
       "       0.96281513, 0.97037815, 0.97535014, 0.97689076, 0.97710084,\n",
       "       0.97745098, 0.97745098, 0.97906162, 0.97885154, 0.9789916 ,\n",
       "       0.97934174, 0.97913165, 0.97927171, 0.97997199, 0.97969188,\n",
       "       0.97962185, 0.98011204, 0.9802521 , 0.98053221, 0.98053221,\n",
       "       0.98053221, 0.98060224, 0.98067227, 0.98046218, 0.98046218,\n",
       "       0.98081232, 0.98060224, 0.98081232, 0.9807423 , 0.98032213,\n",
       "       0.98046218, 0.98088235, 0.98088235, 0.98088235, 0.98116246,\n",
       "       0.98095238, 0.98081232, 0.98046218, 0.98039216, 0.98060224,\n",
       "       0.98053221, 0.98032213, 0.98067227, 0.98067227, 0.9802521 ,\n",
       "       0.9802521 , 0.9802521 , 0.98032213, 0.98032213, 0.98053221,\n",
       "       0.98053221])"
      ]
     },
     "execution_count": 15,
     "metadata": {},
     "output_type": "execute_result"
    }
   ],
   "source": [
    "rfecv.grid_scores_"
   ]
  },
  {
   "cell_type": "markdown",
   "metadata": {},
   "source": [
    "While the output of recursive feature eliminations show 32 features as producing the best accuracy score, examination of the results shows 17 features produces a high accuracy score with almost half the number of features.  The lower number of features will be used going forward to create a more generalized model.  The top features are identified and printed."
   ]
  },
  {
   "cell_type": "code",
   "execution_count": 19,
   "metadata": {},
   "outputs": [
    {
     "data": {
      "text/html": [
       "<div>\n",
       "<style scoped>\n",
       "    .dataframe tbody tr th:only-of-type {\n",
       "        vertical-align: middle;\n",
       "    }\n",
       "\n",
       "    .dataframe tbody tr th {\n",
       "        vertical-align: top;\n",
       "    }\n",
       "\n",
       "    .dataframe thead th {\n",
       "        text-align: right;\n",
       "    }\n",
       "</style>\n",
       "<table border=\"1\" class=\"dataframe\">\n",
       "  <thead>\n",
       "    <tr style=\"text-align: right;\">\n",
       "      <th></th>\n",
       "      <th>koi_fpflag_ss</th>\n",
       "      <th>koi_fpflag_co</th>\n",
       "      <th>koi_fpflag_ec</th>\n",
       "      <th>koi_impact</th>\n",
       "      <th>koi_duration</th>\n",
       "      <th>koi_depth</th>\n",
       "      <th>koi_ror</th>\n",
       "      <th>koi_srho</th>\n",
       "      <th>koi_prad</th>\n",
       "      <th>koi_sma</th>\n",
       "      <th>koi_incl</th>\n",
       "      <th>koi_teq</th>\n",
       "      <th>koi_dor</th>\n",
       "    </tr>\n",
       "  </thead>\n",
       "  <tbody>\n",
       "    <tr>\n",
       "      <th>0</th>\n",
       "      <td>0</td>\n",
       "      <td>0</td>\n",
       "      <td>0</td>\n",
       "      <td>0.146</td>\n",
       "      <td>2.9575</td>\n",
       "      <td>616.0</td>\n",
       "      <td>0.022344</td>\n",
       "      <td>3.20796</td>\n",
       "      <td>2.26</td>\n",
       "      <td>0.0853</td>\n",
       "      <td>89.66</td>\n",
       "      <td>793.0</td>\n",
       "      <td>24.81</td>\n",
       "    </tr>\n",
       "  </tbody>\n",
       "</table>\n",
       "</div>"
      ],
      "text/plain": [
       "   koi_fpflag_ss  koi_fpflag_co  koi_fpflag_ec  koi_impact  koi_duration  \\\n",
       "0              0              0              0       0.146        2.9575   \n",
       "\n",
       "   koi_depth   koi_ror  koi_srho  koi_prad  koi_sma  koi_incl  koi_teq  \\\n",
       "0      616.0  0.022344   3.20796      2.26   0.0853     89.66    793.0   \n",
       "\n",
       "   koi_dor  \n",
       "0    24.81  "
      ]
     },
     "execution_count": 19,
     "metadata": {},
     "output_type": "execute_result"
    }
   ],
   "source": [
    "#17 features has same score as 32 features\n",
    "#print(rfecv.grid_scores_[16], rfecv.grid_scores_[31])\n",
    "#0.9871148459383754 0.9871148459383754\n",
    "\n",
    "#https://stackoverflow.com/questions/51181170/selecting-a-specific-number-of-features-via-sklearns-rfecv-recursive-feature-e\n",
    "#n = rfecv.n_features_ #optimal number of features Identified by algorithm\n",
    "#n = 17 # to select top features\n",
    "n = 13\n",
    "feature_ranks = rfecv.ranking_  # selector is a RFECV fitted object\n",
    "feature_ranks_with_idx = enumerate(feature_ranks)\n",
    "sorted_ranks_with_idx = sorted(feature_ranks_with_idx, key=lambda x: x[1])\n",
    "top_n_idx = [idx for idx, rnk in sorted_ranks_with_idx[:n]]\n",
    "top_n_features = exoTrainFillX.iloc[:1, top_n_idx]\n",
    "top_n_features"
   ]
  },
  {
   "cell_type": "markdown",
   "metadata": {},
   "source": [
    "Create dataframe containing the top features from the zero filled dataset for scaled and unscaled data."
   ]
  },
  {
   "cell_type": "code",
   "execution_count": 25,
   "metadata": {},
   "outputs": [],
   "source": [
    "#Create Zero Fill dataframe for only the top features\n",
    "df_rfecvTrainFillX = df_scaledTrainFillX.iloc[:, top_n_idx]\n",
    "df_rfecvTestFillX = df_scaledTestFillX.iloc[:, top_n_idx]\n",
    "df_rfecvTrainFillX.shape\n",
    "topExoTrainFillX = exoTrainFillX.iloc[:, top_n_idx]\n",
    "topExoTestFillX = exoTestFillX.iloc[:, top_n_idx]"
   ]
  },
  {
   "cell_type": "code",
   "execution_count": 26,
   "metadata": {},
   "outputs": [],
   "source": [
    "#Save to Pickle Files\n",
    "df_rfecvTrainFillX.to_pickle('./pkl/df_rfecvTrainFillX.pkl')\n",
    "df_rfecvTestFillX.to_pickle('./pkl/df_rfecvTestFillX.pkl')\n",
    "topExoTrainFillX.to_pickle('./pkl/topExoTrainFillX.pkl')\n",
    "topExoTestFillX.to_pickle('./pkl/topExoTestFillX.pkl')"
   ]
  },
  {
   "cell_type": "markdown",
   "metadata": {},
   "source": [
    "#### RFECV df_scaledTrainMiceX"
   ]
  },
  {
   "cell_type": "code",
   "execution_count": 27,
   "metadata": {
    "scrolled": true
   },
   "outputs": [
    {
     "name": "stdout",
     "output_type": "stream",
     "text": [
      "[ 9  1  1  1  5 11 13 15  1  1  1  1  1  1 12  1  1  1  1  1  1  1  1  1\n",
      "  1  1  1  1  3  1  2  1  1  4  1 10  1  1  1  1  1  1  1  1 14  1  6  8\n",
      "  1  1  1  1  7  1  1  1  1  1  1  1  1]\n",
      "CPU times: user 2min 48s, sys: 977 ms, total: 2min 49s\n",
      "Wall time: 30min 8s\n"
     ]
    }
   ],
   "source": [
    "%%time\n",
    "\n",
    "from sklearn.feature_selection import RFECV\n",
    "\n",
    "rfecvMice = RFECV(estimator=SVC(C=100, cache_size=200, class_weight=None, coef0=0.0,\n",
    "  decision_function_shape='ovr', degree=2, gamma='auto', kernel='linear',\n",
    "  max_iter=-1, probability=False, random_state=0, shrinking=True,\n",
    "  tol=0.001, verbose=False), step=1, cv=cvsss, scoring='accuracy', verbose=0, n_jobs=12)\n",
    "rfecvMice.fit(df_scaledTrainMiceX, exoTrainMiceY)\n",
    "print(rfecvMice.ranking_)"
   ]
  },
  {
   "cell_type": "markdown",
   "metadata": {},
   "source": [
    "RFECV (using stratified shuffle split cross validation) identifies the optimal number of features being 47 for the Knn imputed dataset.  However, the chart show the accuracy showing relatively small improvements after approximately 20 features.  A second inflection point can be seen at approximately 14 features as well.  The top 14 or 20 features may be a good number for the Knn imputed dataset to create a generalized model.  "
   ]
  },
  {
   "cell_type": "code",
   "execution_count": 73,
   "metadata": {},
   "outputs": [
    {
     "data": {
      "image/png": "[encoded data removed]",
      "text/plain": [
       "<Figure size 432x288 with 1 Axes>"
      ]
     },
     "metadata": {},
     "output_type": "display_data"
    },
    {
     "name": "stdout",
     "output_type": "stream",
     "text": [
      "Optimal number of features : 47 || Score: 0.9812\n",
      "Top 14 features : || Score: 0.9747\n",
      "Top 20 features : || Score: 0.9799\n"
     ]
    }
   ],
   "source": [
    "plt.figure()\n",
    "plt.title(\"Feature Selection - KNN Imputed Data\")\n",
    "plt.xlabel(\"Number of features selected\")\n",
    "plt.ylabel(\"Cross validation accuracy score\")\n",
    "plt.plot(range(1, len(rfecvMice.grid_scores_) + 1), rfecvMice.grid_scores_)\n",
    "plt.xticks(np.arange(0,61,5))\n",
    "plt.grid(b=True, which='both', axis='both')\n",
    "plt.show()\n",
    "print(\"Optimal number of features : %d\" % rfecvMice.n_features_, \"|| Score:\", rfecvMice.grid_scores_.max().round(4))\n",
    "print(\"Top 14 features :\",  \"|| Score:\", rfecvMice.grid_scores_[13].round(4))\n",
    "print(\"Top 20 features :\",  \"|| Score:\", rfecvMice.grid_scores_[19].round(4))"
   ]
  },
  {
   "cell_type": "code",
   "execution_count": 64,
   "metadata": {},
   "outputs": [
    {
     "data": {
      "text/plain": [
       "0.9747198879551819"
      ]
     },
     "execution_count": 64,
     "metadata": {},
     "output_type": "execute_result"
    }
   ],
   "source": [
    "rfecvMice.grid_scores_[13]"
   ]
  },
  {
   "cell_type": "markdown",
   "metadata": {},
   "source": [
    "Identify and print the top features for the Knn imputed dataset."
   ]
  },
  {
   "cell_type": "code",
   "execution_count": 96,
   "metadata": {},
   "outputs": [
    {
     "data": {
      "text/html": [
       "<div>\n",
       "<style scoped>\n",
       "    .dataframe tbody tr th:only-of-type {\n",
       "        vertical-align: middle;\n",
       "    }\n",
       "\n",
       "    .dataframe tbody tr th {\n",
       "        vertical-align: top;\n",
       "    }\n",
       "\n",
       "    .dataframe thead th {\n",
       "        text-align: right;\n",
       "    }\n",
       "</style>\n",
       "<table border=\"1\" class=\"dataframe\">\n",
       "  <thead>\n",
       "    <tr style=\"text-align: right;\">\n",
       "      <th></th>\n",
       "      <th>koi_fpflag_ss</th>\n",
       "      <th>koi_fpflag_co</th>\n",
       "      <th>koi_fpflag_ec</th>\n",
       "      <th>koi_impact</th>\n",
       "      <th>koi_duration</th>\n",
       "      <th>koi_depth</th>\n",
       "      <th>koi_ror</th>\n",
       "      <th>koi_srho</th>\n",
       "      <th>koi_prad</th>\n",
       "      <th>koi_incl</th>\n",
       "      <th>koi_teq</th>\n",
       "      <th>koi_insol</th>\n",
       "      <th>koi_dor</th>\n",
       "      <th>koi_ldm_coeff2</th>\n",
       "    </tr>\n",
       "  </thead>\n",
       "  <tbody>\n",
       "    <tr>\n",
       "      <th>0</th>\n",
       "      <td>0.0</td>\n",
       "      <td>0.0</td>\n",
       "      <td>0.0</td>\n",
       "      <td>0.146</td>\n",
       "      <td>2.9575</td>\n",
       "      <td>616.0</td>\n",
       "      <td>0.022344</td>\n",
       "      <td>3.20796</td>\n",
       "      <td>2.26</td>\n",
       "      <td>89.66</td>\n",
       "      <td>793.0</td>\n",
       "      <td>93.59</td>\n",
       "      <td>24.81</td>\n",
       "      <td>0.2291</td>\n",
       "    </tr>\n",
       "  </tbody>\n",
       "</table>\n",
       "</div>"
      ],
      "text/plain": [
       "   koi_fpflag_ss  koi_fpflag_co  koi_fpflag_ec  koi_impact  koi_duration  \\\n",
       "0            0.0            0.0            0.0       0.146        2.9575   \n",
       "\n",
       "   koi_depth   koi_ror  koi_srho  koi_prad  koi_incl  koi_teq  koi_insol  \\\n",
       "0      616.0  0.022344   3.20796      2.26     89.66    793.0      93.59   \n",
       "\n",
       "   koi_dor  koi_ldm_coeff2  \n",
       "0    24.81          0.2291  "
      ]
     },
     "execution_count": 96,
     "metadata": {},
     "output_type": "execute_result"
    }
   ],
   "source": [
    "#n = rfecvMice.n_features_ # to select top X features\n",
    "n=14\n",
    "feature_ranks = rfecvMice.ranking_  # selector is a RFECV fitted object\n",
    "feature_ranks_with_idx = enumerate(feature_ranks)\n",
    "sorted_ranks_with_idx = sorted(feature_ranks_with_idx, key=lambda x: x[1])\n",
    "top_n_idx = [idx for idx, rnk in sorted_ranks_with_idx[:n]]\n",
    "top_n_features = exoTrainMiceX.iloc[:1, top_n_idx]\n",
    "top_n_features"
   ]
  },
  {
   "cell_type": "markdown",
   "metadata": {},
   "source": [
    "Create dataframe containing the top features for the Knn Imputed dataset for scaled and unscaled data."
   ]
  },
  {
   "cell_type": "code",
   "execution_count": 97,
   "metadata": {},
   "outputs": [],
   "source": [
    "#Create MICE dataframe for only the top features\n",
    "df_rfecvTrainMiceX = df_scaledTrainMiceX.iloc[:, top_n_idx]\n",
    "df_rfecvTestMiceX = df_scaledTestMiceX.iloc[:, top_n_idx]\n",
    "df_rfecvTrainMiceX.shape\n",
    "topExoTrainMiceX = exoTrainMiceX.iloc[:, top_n_idx]\n",
    "topExoTestMiceX = exoTestMiceX.iloc[:, top_n_idx]"
   ]
  },
  {
   "cell_type": "code",
   "execution_count": 98,
   "metadata": {},
   "outputs": [],
   "source": [
    "#Save to Pickle Files\n",
    "df_rfecvTrainMiceX.to_pickle('./pkl/df_rfecvTrainMiceX.pkl')\n",
    "df_rfecvTestMiceX.to_pickle('./pkl/df_rfecvTestMiceX.pkl')\n",
    "topExoTrainMiceX.to_pickle('./pkl/topExoTrainMiceX.pkl')\n",
    "topExoTestMiceX.to_pickle('./pkl/topExoTestMiceX.pkl')"
   ]
  },
  {
   "cell_type": "markdown",
   "metadata": {},
   "source": [
    "### SVM Cross Validated\n",
    "The SVM model will be trained and scored for the zero filled and Knn imputed datasets.  The SVM model object using the best estimator from GridSearchCV is created below."
   ]
  },
  {
   "cell_type": "code",
   "execution_count": 4,
   "metadata": {},
   "outputs": [],
   "source": [
    "svm_clf = SVC(C=100, cache_size=200, class_weight=None, coef0=0.0,\n",
    "  decision_function_shape='ovr', degree=2, gamma='auto', kernel='rbf',\n",
    "  max_iter=-1, probability=True, random_state=0, shrinking=True,\n",
    "  tol=0.001, verbose=False)"
   ]
  },
  {
   "cell_type": "markdown",
   "metadata": {},
   "source": [
    "Generic function to train and score cross validated SVM models."
   ]
  },
  {
   "cell_type": "code",
   "execution_count": 5,
   "metadata": {},
   "outputs": [],
   "source": [
    "#SVM Cross Validation and scoring Function\n",
    "def svmCV(X, y, desc):\n",
    "    for train_indices, test_indices in cvsss.split(X, y): \n",
    "        X_train = X.iloc[train_indices]\n",
    "        y_train = y.iloc[train_indices]\n",
    "        X_test = X.iloc[test_indices]\n",
    "        y_test = y.iloc[test_indices]\n",
    "        svm_clf.fit(X_train, y_train)  # train object\n",
    "        \n",
    "    y_hat = svm_clf.predict(X_test) # get test set precitions\n",
    "\n",
    "    print(\"===== SVM for\", desc, \"with Shuffle Split Cross Validation =====\")\n",
    "    acc = mt.accuracy_score(y_test,y_hat)\n",
    "    conf = mt.confusion_matrix(y_test,y_hat)\n",
    "    prec = mt.precision_score(y_test, y_hat)\n",
    "    recall = mt.recall_score(y_test, y_hat)\n",
    "    print('accuracy:', acc.round(4) )\n",
    "    print('precision:', prec.round(4))\n",
    "    print('recall:', recall.round(4))\n",
    "    print(conf)\n",
    "    return acc, conf, prec, recall;"
   ]
  },
  {
   "cell_type": "markdown",
   "metadata": {},
   "source": [
    "Read pickle files created above.  This allows us to start in this section and bypass the time consuming data cleansing, parameter selection and feature selection steps."
   ]
  },
  {
   "cell_type": "code",
   "execution_count": 33,
   "metadata": {},
   "outputs": [],
   "source": [
    "#Read Pickle Files\n",
    "try:\n",
    "    del df_rfecvTrainFillX, df_rfecvTestFillX, df_rfecvTrainMiceX, df_rfecvTestMiceX, topExoTrainFillX, topExoTestFillX, topExoTrainMiceX, topExoTestMiceX\n",
    "except Exception as e:\n",
    "    print(e)\n",
    "\n",
    "exoTrainFillY = pd.read_pickle(\"./pkl/exoTrainFillY.pkl\")  \n",
    "exoTrainMiceY = pd.read_pickle('./pkl/exoTrainMiceY.pkl')\n",
    "    \n",
    "df_rfecvTrainFillX = pd.read_pickle(\"./pkl/df_rfecvTrainFillX.pkl\")\n",
    "df_rfecvTestFillX = pd.read_pickle(\"./pkl/df_rfecvTestFillX.pkl\")\n",
    "topExoTrainFillX = pd.read_pickle(\"./pkl/topExoTrainFillX.pkl\")\n",
    "topExoTestFillX = pd.read_pickle(\"./pkl/topExoTestFillX.pkl\")\n",
    "df_scaledTrainFillX = pd.read_pickle(\"./pkl/df_scaledTrainFillX.pkl\")\n",
    "df_scaledTestFillX = pd.read_pickle(\"./pkl/df_scaledTestFillX.pkl\")\n",
    "\n",
    "df_rfecvTrainMiceX = pd.read_pickle(\"./pkl/df_rfecvTrainMiceX.pkl\")\n",
    "df_rfecvTestMiceX = pd.read_pickle(\"./pkl/df_rfecvTestMiceX.pkl\")\n",
    "topExoTrainMiceX = pd.read_pickle(\"./pkl/topExoTrainMiceX.pkl\")\n",
    "topExoTestMiceX = pd.read_pickle(\"./pkl/topExoTestMiceX.pkl\")"
   ]
  },
  {
   "cell_type": "markdown",
   "metadata": {},
   "source": [
    "#### Train and score SVM for the zero filled dataset."
   ]
  },
  {
   "cell_type": "code",
   "execution_count": 24,
   "metadata": {},
   "outputs": [
    {
     "name": "stdout",
     "output_type": "stream",
     "text": [
      "===== SVM for Zero Filled Missing Data with Shuffle Split Cross Validation =====\n",
      "accuracy: 0.9629\n",
      "precision: 0.9179\n",
      "recall: 0.9717\n",
      "[[928  40]\n",
      " [ 13 447]]\n"
     ]
    },
    {
     "data": {
      "text/plain": [
       "(0.9628851540616247, array([[928,  40],\n",
       "        [ 13, 447]]), 0.917864476386037, 0.9717391304347827)"
      ]
     },
     "execution_count": 24,
     "metadata": {},
     "output_type": "execute_result"
    }
   ],
   "source": [
    "#df_scaledTrainFill with cross validation\n",
    "svmCV(df_rfecvTrainFillX, exoTrainFillY, \"Zero Filled Missing Data\")\n",
    "#n=13 accuracy: 0.9629\n",
    "#n=17 accuracy: 0.9671\n",
    "#n=45 accuracy: 0.9825"
   ]
  },
  {
   "cell_type": "markdown",
   "metadata": {},
   "source": [
    "#### Prediction Post RFECV - Zero Fill"
   ]
  },
  {
   "cell_type": "code",
   "execution_count": 25,
   "metadata": {
    "scrolled": true
   },
   "outputs": [],
   "source": [
    "y_hatProbCandidatesFill = svm_clf.predict_proba(df_rfecvTestFillX)"
   ]
  },
  {
   "cell_type": "code",
   "execution_count": 26,
   "metadata": {
    "scrolled": true
   },
   "outputs": [
    {
     "data": {
      "text/html": [
       "<div>\n",
       "<style scoped>\n",
       "    .dataframe tbody tr th:only-of-type {\n",
       "        vertical-align: middle;\n",
       "    }\n",
       "\n",
       "    .dataframe tbody tr th {\n",
       "        vertical-align: top;\n",
       "    }\n",
       "\n",
       "    .dataframe thead th {\n",
       "        text-align: right;\n",
       "    }\n",
       "</style>\n",
       "<table border=\"1\" class=\"dataframe\">\n",
       "  <thead>\n",
       "    <tr style=\"text-align: right;\">\n",
       "      <th></th>\n",
       "      <th>0</th>\n",
       "      <th>1</th>\n",
       "    </tr>\n",
       "  </thead>\n",
       "  <tbody>\n",
       "    <tr>\n",
       "      <th>count</th>\n",
       "      <td>2426.000000</td>\n",
       "      <td>2.426000e+03</td>\n",
       "    </tr>\n",
       "    <tr>\n",
       "      <th>mean</th>\n",
       "      <td>0.632207</td>\n",
       "      <td>3.677926e-01</td>\n",
       "    </tr>\n",
       "    <tr>\n",
       "      <th>std</th>\n",
       "      <td>0.297519</td>\n",
       "      <td>2.975192e-01</td>\n",
       "    </tr>\n",
       "    <tr>\n",
       "      <th>min</th>\n",
       "      <td>0.000001</td>\n",
       "      <td>1.000000e-07</td>\n",
       "    </tr>\n",
       "    <tr>\n",
       "      <th>25%</th>\n",
       "      <td>0.405045</td>\n",
       "      <td>5.450049e-02</td>\n",
       "    </tr>\n",
       "    <tr>\n",
       "      <th>50%</th>\n",
       "      <td>0.632722</td>\n",
       "      <td>3.672783e-01</td>\n",
       "    </tr>\n",
       "    <tr>\n",
       "      <th>75%</th>\n",
       "      <td>0.945500</td>\n",
       "      <td>5.949552e-01</td>\n",
       "    </tr>\n",
       "    <tr>\n",
       "      <th>max</th>\n",
       "      <td>1.000000</td>\n",
       "      <td>9.999987e-01</td>\n",
       "    </tr>\n",
       "  </tbody>\n",
       "</table>\n",
       "</div>"
      ],
      "text/plain": [
       "                 0             1\n",
       "count  2426.000000  2.426000e+03\n",
       "mean      0.632207  3.677926e-01\n",
       "std       0.297519  2.975192e-01\n",
       "min       0.000001  1.000000e-07\n",
       "25%       0.405045  5.450049e-02\n",
       "50%       0.632722  3.672783e-01\n",
       "75%       0.945500  5.949552e-01\n",
       "max       1.000000  9.999987e-01"
      ]
     },
     "execution_count": 26,
     "metadata": {},
     "output_type": "execute_result"
    }
   ],
   "source": [
    "y_hatProbCandidatesFill = pd.DataFrame(y_hatProbCandidatesFill)\n",
    "y_hatProbCandidatesFill.describe()"
   ]
  },
  {
   "cell_type": "code",
   "execution_count": 27,
   "metadata": {},
   "outputs": [
    {
     "name": "stdout",
     "output_type": "stream",
     "text": [
      "Greater than 50% 846\n",
      "Greater than 80% 234\n",
      "Greater than 90% 122\n",
      "Greater than 95% 71\n"
     ]
    }
   ],
   "source": [
    "#np.where(y_hatProbCandidates[1] >= 0.5)\n",
    "print(\"Greater than 50%\", np.count_nonzero(np.where(y_hatProbCandidatesFill[1] > 0.5)))\n",
    "print(\"Greater than 80%\", np.count_nonzero(np.where(y_hatProbCandidatesFill[1] > 0.8)))\n",
    "print(\"Greater than 90%\", np.count_nonzero(np.where(y_hatProbCandidatesFill[1] > 0.9)))\n",
    "print(\"Greater than 95%\", np.count_nonzero(np.where(y_hatProbCandidatesFill[1] > 0.95)))"
   ]
  },
  {
   "cell_type": "markdown",
   "metadata": {},
   "source": [
    "#### Without RFECV"
   ]
  },
  {
   "cell_type": "code",
   "execution_count": 28,
   "metadata": {},
   "outputs": [
    {
     "name": "stdout",
     "output_type": "stream",
     "text": [
      "===== SVM for Zero Filled Missing Data - No RFECV with Shuffle Split Cross Validation =====\n",
      "accuracy: 0.9923\n",
      "precision: 0.9934\n",
      "recall: 0.9826\n",
      "[[965   3]\n",
      " [  8 452]]\n"
     ]
    },
    {
     "data": {
      "text/plain": [
       "(0.992296918767507, array([[965,   3],\n",
       "        [  8, 452]]), 0.9934065934065934, 0.9826086956521739)"
      ]
     },
     "execution_count": 28,
     "metadata": {},
     "output_type": "execute_result"
    }
   ],
   "source": [
    "svmCV(df_scaledTrainFillX, exoTrainFillY, \"Zero Filled Missing Data - No RFECV\")"
   ]
  },
  {
   "cell_type": "markdown",
   "metadata": {},
   "source": [
    "#### Prediction Without RFECV - Zero Fill"
   ]
  },
  {
   "cell_type": "code",
   "execution_count": 29,
   "metadata": {},
   "outputs": [],
   "source": [
    "y_hatProbCandidatesFillNoRFECV = svm_clf.predict_proba(df_scaledTestFillX)"
   ]
  },
  {
   "cell_type": "code",
   "execution_count": 30,
   "metadata": {},
   "outputs": [
    {
     "data": {
      "text/html": [
       "<div>\n",
       "<style scoped>\n",
       "    .dataframe tbody tr th:only-of-type {\n",
       "        vertical-align: middle;\n",
       "    }\n",
       "\n",
       "    .dataframe tbody tr th {\n",
       "        vertical-align: top;\n",
       "    }\n",
       "\n",
       "    .dataframe thead th {\n",
       "        text-align: right;\n",
       "    }\n",
       "</style>\n",
       "<table border=\"1\" class=\"dataframe\">\n",
       "  <thead>\n",
       "    <tr style=\"text-align: right;\">\n",
       "      <th></th>\n",
       "      <th>0</th>\n",
       "      <th>1</th>\n",
       "    </tr>\n",
       "  </thead>\n",
       "  <tbody>\n",
       "    <tr>\n",
       "      <th>count</th>\n",
       "      <td>2426.000000</td>\n",
       "      <td>2.426000e+03</td>\n",
       "    </tr>\n",
       "    <tr>\n",
       "      <th>mean</th>\n",
       "      <td>0.926533</td>\n",
       "      <td>7.346666e-02</td>\n",
       "    </tr>\n",
       "    <tr>\n",
       "      <th>std</th>\n",
       "      <td>0.154712</td>\n",
       "      <td>1.547117e-01</td>\n",
       "    </tr>\n",
       "    <tr>\n",
       "      <th>min</th>\n",
       "      <td>0.024250</td>\n",
       "      <td>1.000000e-07</td>\n",
       "    </tr>\n",
       "    <tr>\n",
       "      <th>25%</th>\n",
       "      <td>0.940206</td>\n",
       "      <td>1.212263e-03</td>\n",
       "    </tr>\n",
       "    <tr>\n",
       "      <th>50%</th>\n",
       "      <td>0.990161</td>\n",
       "      <td>9.839064e-03</td>\n",
       "    </tr>\n",
       "    <tr>\n",
       "      <th>75%</th>\n",
       "      <td>0.998788</td>\n",
       "      <td>5.979425e-02</td>\n",
       "    </tr>\n",
       "    <tr>\n",
       "      <th>max</th>\n",
       "      <td>1.000000</td>\n",
       "      <td>9.757500e-01</td>\n",
       "    </tr>\n",
       "  </tbody>\n",
       "</table>\n",
       "</div>"
      ],
      "text/plain": [
       "                 0             1\n",
       "count  2426.000000  2.426000e+03\n",
       "mean      0.926533  7.346666e-02\n",
       "std       0.154712  1.547117e-01\n",
       "min       0.024250  1.000000e-07\n",
       "25%       0.940206  1.212263e-03\n",
       "50%       0.990161  9.839064e-03\n",
       "75%       0.998788  5.979425e-02\n",
       "max       1.000000  9.757500e-01"
      ]
     },
     "execution_count": 30,
     "metadata": {},
     "output_type": "execute_result"
    }
   ],
   "source": [
    "y_hatProbCandidatesFillNoRFECV = pd.DataFrame(y_hatProbCandidatesFillNoRFECV)\n",
    "y_hatProbCandidatesFillNoRFECV.describe()"
   ]
  },
  {
   "cell_type": "code",
   "execution_count": 31,
   "metadata": {},
   "outputs": [
    {
     "name": "stdout",
     "output_type": "stream",
     "text": [
      "Greater than 50% 86\n",
      "Greater than 80% 29\n",
      "Greater than 90% 8\n",
      "Greater than 95% 3\n"
     ]
    }
   ],
   "source": [
    "print(\"Greater than 50%\", np.count_nonzero(np.where(y_hatProbCandidatesFillNoRFECV[1] > 0.5)))\n",
    "print(\"Greater than 80%\", np.count_nonzero(np.where(y_hatProbCandidatesFillNoRFECV[1] > 0.8)))\n",
    "print(\"Greater than 90%\", np.count_nonzero(np.where(y_hatProbCandidatesFillNoRFECV[1] > 0.9)))\n",
    "print(\"Greater than 95%\", np.count_nonzero(np.where(y_hatProbCandidatesFillNoRFECV[1] > 0.95)))"
   ]
  },
  {
   "cell_type": "markdown",
   "metadata": {},
   "source": [
    "#### Train and score SVM for the Knn imputed dataset."
   ]
  },
  {
   "cell_type": "code",
   "execution_count": 34,
   "metadata": {},
   "outputs": [
    {
     "name": "stdout",
     "output_type": "stream",
     "text": [
      "===== SVM for Knn Imputation with Shuffle Split Cross Validation =====\n",
      "accuracy: 0.9818\n",
      "precision: 0.9717\n",
      "recall: 0.9717\n",
      "[[955  13]\n",
      " [ 13 447]]\n"
     ]
    },
    {
     "data": {
      "text/plain": [
       "(0.9817927170868347, array([[955,  13],\n",
       "        [ 13, 447]]), 0.9717391304347827, 0.9717391304347827)"
      ]
     },
     "execution_count": 34,
     "metadata": {},
     "output_type": "execute_result"
    }
   ],
   "source": [
    "svmCV(df_rfecvTrainMiceX, exoTrainMiceY, \"Knn Imputation\")\n",
    "#n=20 accuracy: 0.9215\n",
    "#n=14 accuracy: 0.9538\n",
    "#n=47 accuracy: 0.9"
   ]
  },
  {
   "cell_type": "markdown",
   "metadata": {},
   "source": [
    "#### Prediction Post RFECV - Knn Imputation"
   ]
  },
  {
   "cell_type": "code",
   "execution_count": 35,
   "metadata": {},
   "outputs": [
    {
     "data": {
      "text/plain": [
       "(2426, 47)"
      ]
     },
     "execution_count": 35,
     "metadata": {},
     "output_type": "execute_result"
    }
   ],
   "source": [
    "df_rfecvTestMiceX.shape"
   ]
  },
  {
   "cell_type": "code",
   "execution_count": 36,
   "metadata": {},
   "outputs": [],
   "source": [
    "y_hatProbCandidates = svm_clf.predict_proba(df_rfecvTestMiceX)"
   ]
  },
  {
   "cell_type": "code",
   "execution_count": 37,
   "metadata": {},
   "outputs": [
    {
     "data": {
      "text/html": [
       "<div>\n",
       "<style scoped>\n",
       "    .dataframe tbody tr th:only-of-type {\n",
       "        vertical-align: middle;\n",
       "    }\n",
       "\n",
       "    .dataframe tbody tr th {\n",
       "        vertical-align: top;\n",
       "    }\n",
       "\n",
       "    .dataframe thead th {\n",
       "        text-align: right;\n",
       "    }\n",
       "</style>\n",
       "<table border=\"1\" class=\"dataframe\">\n",
       "  <thead>\n",
       "    <tr style=\"text-align: right;\">\n",
       "      <th></th>\n",
       "      <th>0</th>\n",
       "      <th>1</th>\n",
       "    </tr>\n",
       "  </thead>\n",
       "  <tbody>\n",
       "    <tr>\n",
       "      <th>count</th>\n",
       "      <td>2426.000000</td>\n",
       "      <td>2.426000e+03</td>\n",
       "    </tr>\n",
       "    <tr>\n",
       "      <th>mean</th>\n",
       "      <td>0.878907</td>\n",
       "      <td>1.210927e-01</td>\n",
       "    </tr>\n",
       "    <tr>\n",
       "      <th>std</th>\n",
       "      <td>0.224501</td>\n",
       "      <td>2.245008e-01</td>\n",
       "    </tr>\n",
       "    <tr>\n",
       "      <th>min</th>\n",
       "      <td>0.000002</td>\n",
       "      <td>1.000000e-07</td>\n",
       "    </tr>\n",
       "    <tr>\n",
       "      <th>25%</th>\n",
       "      <td>0.872863</td>\n",
       "      <td>5.999667e-04</td>\n",
       "    </tr>\n",
       "    <tr>\n",
       "      <th>50%</th>\n",
       "      <td>0.989569</td>\n",
       "      <td>1.043061e-02</td>\n",
       "    </tr>\n",
       "    <tr>\n",
       "      <th>75%</th>\n",
       "      <td>0.999400</td>\n",
       "      <td>1.271368e-01</td>\n",
       "    </tr>\n",
       "    <tr>\n",
       "      <th>max</th>\n",
       "      <td>1.000000</td>\n",
       "      <td>9.999976e-01</td>\n",
       "    </tr>\n",
       "  </tbody>\n",
       "</table>\n",
       "</div>"
      ],
      "text/plain": [
       "                 0             1\n",
       "count  2426.000000  2.426000e+03\n",
       "mean      0.878907  1.210927e-01\n",
       "std       0.224501  2.245008e-01\n",
       "min       0.000002  1.000000e-07\n",
       "25%       0.872863  5.999667e-04\n",
       "50%       0.989569  1.043061e-02\n",
       "75%       0.999400  1.271368e-01\n",
       "max       1.000000  9.999976e-01"
      ]
     },
     "execution_count": 37,
     "metadata": {},
     "output_type": "execute_result"
    }
   ],
   "source": [
    "y_hatProbCandidates = pd.DataFrame(y_hatProbCandidates)\n",
    "y_hatProbCandidates.describe()"
   ]
  },
  {
   "cell_type": "code",
   "execution_count": 40,
   "metadata": {},
   "outputs": [
    {
     "name": "stdout",
     "output_type": "stream",
     "text": [
      "Greater than 50%: 215\n",
      "Greater than 90%: 50\n",
      "Greater than 95%: 35\n"
     ]
    }
   ],
   "source": [
    "#np.where(y_hatProbCandidates[1] >= 0.5)\n",
    "print(\"Greater than 50%:\", np.count_nonzero(np.where(y_hatProbCandidates[1] > 0.5)))\n",
    "print(\"Greater than 90%:\", np.count_nonzero(np.where(y_hatProbCandidates[1] > 0.9)))\n",
    "print(\"Greater than 95%:\", np.count_nonzero(np.where(y_hatProbCandidates[1] > 0.95)))"
   ]
  },
  {
   "cell_type": "markdown",
   "metadata": {},
   "source": [
    "### Object of Interest Candidate Probabilities"
   ]
  },
  {
   "cell_type": "code",
   "execution_count": 63,
   "metadata": {},
   "outputs": [],
   "source": [
    "#exoTestX_kepid\n",
    "#mt.auc(y_test, y_hat)\n",
    "#mt.roc_auc_score(y_, y_hat)"
   ]
  },
  {
   "cell_type": "markdown",
   "metadata": {},
   "source": [
    "## Saved Code Appendix"
   ]
  },
  {
   "cell_type": "markdown",
   "metadata": {},
   "source": [
    "####### changed to markdown since we have a function to train and score SVM\n",
    "#df_scaledTrainFill with cross validation\n",
    "for train_indices, test_indices in cv.split(df_rfecvTrainFillX, exoTrainFillY): \n",
    "    X_train = df_rfecvTrainFillX.iloc[train_indices]\n",
    "    y_train = exoTrainFillY.iloc[train_indices]\n",
    "    \n",
    "    X_test = df_rfecvTrainFillX.iloc[test_indices]\n",
    "    y_test = exoTrainFillY.iloc[test_indices]\n",
    "\n",
    "svm_clf.fit(X_train, y_train)  # train object\n",
    "\n",
    "y_hat = svm_clf.predict(X_test) # get test set precitions\n",
    "y_hatProb = svm_clf.predict_proba(X_test)\n",
    "\n",
    "print(\"===== SVM for Zero Filled Missing Data with Shuffle Split Cross Validation =====\")\n",
    "scoreSVM(y_test, y_hat)"
   ]
  },
  {
   "cell_type": "markdown",
   "metadata": {},
   "source": [
    "####### changed to markdown since we have a function to train and score SVM\n",
    "#df_scaledTrainMice with cross validation\n",
    "for train_indices, test_indices in cv.split(df_rfecvTrainMiceX, exoTrainMiceY): \n",
    "    X_train = df_scaledTrainMiceX.iloc[train_indices]\n",
    "    y_train = exoTrainMiceY.iloc[train_indices]\n",
    "    \n",
    "    X_test = df_scaledTrainMiceX.iloc[test_indices]\n",
    "    y_test = exoTrainMiceY.iloc[test_indices]\n",
    "    \n",
    "svm_clf.fit(X_train, y_train)  # train object\n",
    "\n",
    "y_hat = svm_clf.predict(X_test) # get test set precitions\n",
    "y_hatProb = svm_clf.predict_proba(X_test)\n",
    "\n",
    "print(\"===== SVM for KNN Imputed Missing Data with Shuffle Split Cross Validation =====\")\n",
    "scoreSVM(y_test, y_hat)"
   ]
  }
 ],
 "metadata": {
  "kernelspec": {
   "display_name": "Python 3",
   "language": "python",
   "name": "python3"
  },
  "language_info": {
   "codemirror_mode": {
    "name": "ipython",
    "version": 3
   },
   "file_extension": ".py",
   "mimetype": "text/x-python",
   "name": "python",
   "nbconvert_exporter": "python",
   "pygments_lexer": "ipython3",
   "version": "3.5.5"
  }
 },
 "nbformat": 4,
 "nbformat_minor": 2
}
